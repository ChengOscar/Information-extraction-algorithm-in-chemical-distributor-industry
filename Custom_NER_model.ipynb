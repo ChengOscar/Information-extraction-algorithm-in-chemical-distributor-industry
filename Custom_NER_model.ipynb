{
  "nbformat": 4,
  "nbformat_minor": 0,
  "metadata": {
    "colab": {
      "provenance": []
    },
    "kernelspec": {
      "name": "python3",
      "display_name": "Python 3"
    },
    "language_info": {
      "name": "python"
    }
  },
  "cells": [
    {
      "cell_type": "markdown",
      "source": [
        "**Video for reference**\n",
        "1. https://www.youtube.com/watch?v=Zi9DR4hRQrE\n",
        "2. https://www.youtube.com/watch?v=9mXoGxAn6pM&t=2s"
      ],
      "metadata": {
        "id": "6F8jmgBl_Yv1"
      }
    },
    {
      "cell_type": "markdown",
      "source": [
        "**1. Extract the text**"
      ],
      "metadata": {
        "id": "bDBetU-5G5R5"
      }
    },
    {
      "cell_type": "code",
      "source": [
        "!pip install pypdf"
      ],
      "metadata": {
        "id": "YnoB759CG4VV",
        "colab": {
          "base_uri": "https://localhost:8080/"
        },
        "outputId": "99c3a730-447c-4363-d63f-580276b387d1"
      },
      "execution_count": null,
      "outputs": [
        {
          "output_type": "stream",
          "name": "stdout",
          "text": [
            "Collecting pypdf\n",
            "  Downloading pypdf-4.2.0-py3-none-any.whl (290 kB)\n",
            "\u001b[2K     \u001b[90m━━━━━━━━━━━━━━━━━━━━━━━━━━━━━━━━━━━━━━━━\u001b[0m \u001b[32m290.4/290.4 kB\u001b[0m \u001b[31m2.9 MB/s\u001b[0m eta \u001b[36m0:00:00\u001b[0m\n",
            "\u001b[?25hRequirement already satisfied: typing_extensions>=4.0 in /usr/local/lib/python3.10/dist-packages (from pypdf) (4.11.0)\n",
            "Installing collected packages: pypdf\n",
            "Successfully installed pypdf-4.2.0\n"
          ]
        }
      ]
    },
    {
      "cell_type": "code",
      "source": [
        "from pypdf import PdfReader\n",
        "reader = PdfReader('/content/Roquette_SDS_GHS_TABULOSE SC® 611_000000202042_EN.PDF')\n",
        "text = \"\"\n",
        "for page_num in range(2):\n",
        "    text += reader.pages[page_num].extract_text()\n",
        "print(text)"
      ],
      "metadata": {
        "id": "5TxiH9o8HOl3",
        "colab": {
          "base_uri": "https://localhost:8080/"
        },
        "outputId": "f50c0d5b-9e5e-4138-bc22-215be50c85b3"
      },
      "execution_count": null,
      "outputs": [
        {
          "output_type": "stream",
          "name": "stdout",
          "text": [
            " \n",
            "  \n",
            " \n",
            "Version : 1.1 Revision date : 2022 -03-28 \n",
            "Product name : TABULOSE SC ® 611 Product No. : 000000202042  \n",
            "BR SDS_GHS  / EN Page : 1/7 \n",
            " \n",
            " \n",
            " \n",
            " SAFETY DATA SHEET  \n",
            "TABULOSE SC ® 611  \n",
            " \n",
            "SECTION 1 : Identification  \n",
            " \n",
            "1.1 Product identifier : \n",
            " \n",
            "Product name : TABULOSE SC ® 611 \n",
            "Synonyms :  Microcrystalline Cellulose (CAS : 9004 -34-6, E466) & Carboxymethylcellulose \n",
            "(CAS : 9004 -32-4, E460 (i)).  \n",
            " \n",
            "1.2 Relevant identified uses of the substance or mixture and uses advised against : \n",
            " \n",
            "Identified uses : Uses advised against : \n",
            "Pharmaceuticals.Stabilizer; Suspending agent; Thickener; Thixotropic \n",
            "agent; Bodying agent.Food additive.  None Reported  \n",
            " \n",
            "1.3 Details of the supplier of the safety data sheet : \n",
            " \n",
            "Supplier :  \n",
            "ITACEL FARMOQUIM ÍCA LTDA.  \n",
            "R. DR JOS É ALEXANDRE CROSGNAC, 645  \n",
            "06680 -035 - ITAPEVI - SP - BRAZIL  Telephone : +55 11 4144 -9400  \n",
            " \n",
            "E-mail: rbr.contacto@roquette.com  \n",
            " \n",
            "1.4 Emergency telephone number :  \n",
            " \n",
            "World directory of poisons centres : http://www.who.int/gho/phe/chemical_safety/poisons_centres/en/  \n",
            " \n",
            "SECTION 2: Hazards identification  \n",
            " \n",
            "2.1 Classification of the substance or mixture : \n",
            " \n",
            "The product has not been classified as dangerous according to GHS.  \n",
            " \n",
            "2.2 Label elements : Not applicable  \n",
            "  \n",
            " \n",
            "2.3 Other hazards : May form explosible dust -air mixture if dispersed in the air   \n",
            " \n",
            "SECTION 3: Composition/information on ingredients  \n",
            " \n",
            "3.1 Substance : Multi -constituent substance.  \n",
            " \n",
            "Constituents. Chemical name  Concentration  CAS -No. \n",
            "Cellulose  >=1 - <=100% 9004 -34-6 \n",
            "Cellulose, carboxymethyl ether, sodium salt  >=1 - <=100% 9004 -32-4 \n",
            " \n",
            "SECTION 4: First aid measures  \n",
            " \n",
            "4.1 Description of first aid measures : \n",
            "Inhalation :  Move the exposed person to fresh air at once. Get medical attention if any \n",
            "discomfort continues.   \n",
            "  \n",
            "  \n",
            " \n",
            "Version : 1.1 Revision date : 2022 -03-28 \n",
            "Product name : TABULOSE SC ® 611 Product No. : 000000202042  \n",
            "BR SDS_GHS  / EN Page : 2/7 \n",
            " \n",
            " \n",
            " \n",
            " Eye contact : Promptly wash eyes with plenty of water while lifting the eye lids. Get medical \n",
            "attention if irritation persists after washing.   \n",
            " \n",
            "Skin contact : Wash with soap and water.   \n",
            " \n",
            "Ingestion : Drink plenty of water. Never give liquid to an unconscious person. Get medical \n",
            "attention if symptoms occur.  \n",
            " \n",
            "4.2 Most important symptoms \n",
            "and effects, both acute and \n",
            "delayed : Dust may irritate the eyes and the respiratory system.   \n",
            " \n",
            "4.3 Indication of any immediate medical attention and special treatment needed : \n",
            " \n",
            "Treatment : Treat symptomatically.  \n",
            " \n",
            "SECTION 5: Firefighting measures  \n",
            " \n",
            "5.1 Extinguishing media:  \n",
            " \n",
            "Suitable extinguishing \n",
            "media:  Water spray.  \n",
            " \n",
            "Unsuitable extinguishing \n",
            "media : Dry chemicals or foams.   \n",
            " \n",
            "5.2 Special hazards arising \n",
            "from the substance or \n",
            "mixture : Fire or excessive heat may produce hazardous decomposition products.  \n",
            "Combustible dusts : may form an explosible mixture in the air.  See Section 10.   \n",
            " \n",
            "5.3 Advice for firefighters : \n",
            " \n",
            "Special Fire Fighting \n",
            "Procedures : Prevent dust cloud.   \n",
            " \n",
            "Special protective \n",
            "equipment for fire -fighters : Firefighters must use standard protective equipment including flame retardant \n",
            "coat, helmet with face shield, gloves, rubber boots, and in enclosed spaces, \n",
            "SCBA.   \n",
            " \n",
            "SECTION 6: Accidental release measures  \n",
            " \n",
            "6.1 Personal precautions, \n",
            "protective equipment and \n",
            "emergency procedures : See Section 8 of the SDS for Personal Pro tective Equipment.   \n",
            " \n",
            "6.2 Environmental \n",
            "precautions : No special precautions. Do not discharge into drains, water courses or onto \n",
            "the ground.   \n",
            " \n",
            "6.3 Methods and material for \n",
            "containment and cleaning \n",
            "up: Remove material, as much as possible, using mechanical equipment.  Prevent \n",
            "dust cloud.  Collect and dispose of spillage as indicated in section 13 of the \n",
            "SDS.   \n",
            " \n",
            "SECTION 7: Handling and storage  \n",
            " \n"
          ]
        }
      ]
    },
    {
      "cell_type": "code",
      "source": [
        "with open('extracted_text.txt', 'w',) as f:\n",
        "  f.write(text)"
      ],
      "metadata": {
        "id": "2q-egUaXHSK_"
      },
      "execution_count": null,
      "outputs": []
    },
    {
      "cell_type": "markdown",
      "source": [
        "**This link is the website that I use for annotation**\n",
        "https://tecoholic.github.io/ner-annotator/"
      ],
      "metadata": {
        "id": "wA_8UMK-VLm0"
      }
    },
    {
      "cell_type": "markdown",
      "source": [
        "2. **Data Annotation**"
      ],
      "metadata": {
        "id": "ROP27N6jVnUG"
      }
    },
    {
      "cell_type": "code",
      "source": [
        "import pandas as pd\n",
        "import json\n",
        "import os"
      ],
      "metadata": {
        "id": "KeVST3GrX4ui"
      },
      "execution_count": null,
      "outputs": []
    },
    {
      "cell_type": "code",
      "source": [
        "def load_json(json_file):\n",
        "    with open(json_file, 'r') as f:\n",
        "        data = json.load(f)\n",
        "    return data['annotations']"
      ],
      "metadata": {
        "id": "5R8kMGL2v-D3"
      },
      "execution_count": null,
      "outputs": []
    },
    {
      "cell_type": "code",
      "source": [
        "json_files = ['/content/annotations-2.json','/content/annotations-3.json','/content/annotations-4.json','/content/annotations-5.json', '/content/annotations-7.json', '/content/annotations-9.json', '/content/annotations-10.json', '/content/annotations-11.json', '/content/annotations-12.json', '/content/annotations-13.json', '/content/annotations-15.json', '/content/annotations-16.json']"
      ],
      "metadata": {
        "id": "HT2Y9d9kwEc9"
      },
      "execution_count": null,
      "outputs": []
    },
    {
      "cell_type": "code",
      "source": [
        "json_files = ['/content/annotations.json', '/content/annotations-2.json', '/content/annotations-3.json']"
      ],
      "metadata": {
        "id": "J3GbITNxvPau"
      },
      "execution_count": null,
      "outputs": []
    },
    {
      "cell_type": "code",
      "source": [
        "all_data = []\n",
        "for i in json_files:\n",
        "  all_data.extend(load_json(i))"
      ],
      "metadata": {
        "id": "WEu3vADJwLjx"
      },
      "execution_count": null,
      "outputs": []
    },
    {
      "cell_type": "code",
      "source": [
        "all_data = list(filter(lambda item: item is not None, all_data))"
      ],
      "metadata": {
        "id": "X__Ay-x4x1JV"
      },
      "execution_count": null,
      "outputs": []
    },
    {
      "cell_type": "code",
      "source": [
        "all_data"
      ],
      "metadata": {
        "colab": {
          "base_uri": "https://localhost:8080/"
        },
        "id": "6BTXbzXJyQEj",
        "outputId": "11001308-d048-441f-8cca-b06744a550d1"
      },
      "execution_count": null,
      "outputs": [
        {
          "output_type": "execute_result",
          "data": {
            "text/plain": [
              "[['SAFETY DATA SHEET \\nAccording to REACH Regulation (EC) No 1907/2006, as amended by \\nUK REACH Regulations SI 2019/758 \\n \\nANFOMUL™ 2000-LQ-(RB)  \\n  \\n \\nVersion \\n1.0 Revision Date: \\n12.09.2022 Product code: \\nPS01251  Date of last \\nissue: - \\nDate of first \\nissue: \\n12.09.2022  Print Date : \\n26.09.2022  \\n \\n1 / 13 SECTION 1: Identification of the substance/mixture and of the company/undertaking \\n1.1 Product identifier  \\nProduct name : ANFOMUL™ 2000-LQ-(RB) \\n \\n1.2 Relevant identified uses of the substance or mixture and uses advised against \\nUse of the \\nSubstance/Mixture \\n : Raw material \\n \\n1.3 Details of the supplier of the safety data sheet \\nCompany \\n : Croda Inc. \\n777 Scudders Mill Road, Bldg. 2 \\nSuite 200 \\nPlainsboro, NJ 08536  \\nUS \\n \\n \\nTelephone \\n : +16092122500 \\n \\nTelefax \\n : +16092122501 \\n \\nE-mail address : Sds.compiler@croda.com \\n \\n1.4 Emergency telephone number \\nEmergency telephone number  : USA: 24 Hour Emergency Response Information CHEMTREC \\ntoll free: 1-800-424-9300; direct/international: 1-703-527-3887. \\nCANADA: GFL 1-877-898-7222. EUROPE: 00 32 3575 5555. \\nASIA PACIFIC - excl. China:+65 6542-9595. CHINA: +86 816-\\n635 2206. AUSTRALIA: +61 2 7808 3390. SOUTH AFRICA: \\n+32 3 575 55 55. BRASIL: Ambipar 0800 117 2020. LATAM: \\nSuatrans (+55) 11 98149-0850 / (+55) 19 3833-5300. INDIA: \\n+91 22 30948601/2. JAPAN: +65 6542 9595 (24 時間日本語対\\n応無料通話 , シンガポール ). TÜRKIYE: Sağlik Bakanliği Ulusal \\nZehir Merkezi - 114 \\n \\nSECTION 2: Hazards identification \\n2.1 Classification of the substance or mixture \\nClassification (REGULATION (EC) No 1272/2008) as amended by GB-CLP Regulation, UK \\nSI 2019/720, and UK SI 2020/1567) \\n \\nNot a hazardous substance or mixture. SAFETY DATA SHEET \\nAccording to REACH Regulation (EC) No 1907/2006, as amended by \\nUK REACH Regulations SI 2019/758 \\n \\nANFOMUL™ 2000-LQ-(RB)  \\n  \\n \\nVersion \\n1.0 Revision Date: \\n12.09.2022 Product code: \\nPS01251  Date of last \\nissue: - \\nDate of first \\nissue: \\n12.09.2022  Print Date : \\n26.09.2022  \\n \\n2 / 13 2.2 Label elements \\nLabelling (REGULATION (EC) No 1272/2008) as amended by GB-CLP Regulation, UK SI \\n2019/720, and UK SI 2020/1567) \\n \\nNot a hazardous substance or mixture. \\n \\nAdditional Labelling \\nEUH208  Contains Maleic anhydride.  \\nMay produce an allergic reaction. \\n \\nThe following percentage of the mixture consists of ingredient(s) with unknown acute toxicity: \\n70.2 % \\nThe following percentage of the mixture consists of ingredient(s) with unknown hazards to the \\naquatic environment: 70.2 % \\n2.3 Other hazards \\nThis substance/mixture contains no components considered to be either persistent, \\nbioaccumulative and toxic (PBT), or very persistent and very bioaccumulative (vPvB) at levels of \\n0.1% or higher. \\nSECTION 3: Composition/information on ingredients \\n3.2 Mixtures \\nComponents \\nChemical name CAS-No. \\nEC-No. \\nIndex-No. \\nRegistration number Classification \\n Concentration \\n(% w/w) \\nDistillates (petroleum),solvent-\\ndewaxed heavy paraffinic Not Assigned \\n \\n01-2119471299-27-\\nXXXX Asp. Tox. 1; H304 >= 20 - < 30  \\nMaleic anhydride 108-31-6 \\n203-571-6 \\n607-096-00-9 Acute Tox. 4; H302 \\nSkin Corr. 1B; \\nH314 \\nResp. Sens. 1; \\nH334 \\nSkin Sens. 1; H317 \\nSTOT RE 1; H372 \\nEye Dam. 1; H318 >= 0.1 - < 1  \\n \\nFor explanation of abbreviations see section 16. \\n \\nSECTION 4: First aid measures \\n4.1 Description of first aid measures ',\n",
              "  {'entities': [[430, 451, 'PRODUCT NAME'],\n",
              "    [572, 584, 'USE OF SUBSTANCE/MIXTURE'],\n",
              "    [1633, 1670, 'HAZARD'],\n",
              "    [3005, 3021, 'CHEMICAL']]}],\n",
              " [\"SAFETY DATA SHEET   \\n \\nANFOMUL™ 2500-LQ-(RB)   \\nVersion \\n1.0 Revision Date:  \\n01/11/2019 Product code:  \\nPD02500  Date of last issue: \\n- \\nDate of first issue: \\n01/11/2019  Print Date : \\n09/26/2022  \\n \\n1 / 8 SECTION 1. IDENTIFICATION \\n \\nProduct name  : ANFOMUL™ 2500-LQ-(RB) \\nChemical name  : Polyisobutene lactone, based polymer.  \\nManufacturer or supplier's details \\nCompany name of supplier   : Croda Inc.   \\nAddress  : 777 Scudders Mill Road, Bldg. 2 \\nSuite 200 \\nPlainsboro, NJ 08536  \\nUS  \\nTelephone  : (609) 212-2500  \\nTelefax  : (609) 212-2501  \\nEmergency telephone  : USA: 24 Hour Emergency Response Information CHEMTREC \\ntoll free: 1-800-424-9300; direct/international: 1-703-527-3887. \\nCANADA: GFL 1-877-898-7222. EUROPE: 00 32 3575 5555. \\nASIA PACIFIC - excl. China:+65 6542-9595. CHINA: +86 816-\\n635 2206. AUSTRALIA: +61 2 7808 3390. SOUTH AFRICA: \\n+32 3 575 55 55. BRASIL: Ambipar 0800 117 2020. LATAM: \\nSuatrans (+55) 11 98149-0850 / (+55) 19 3833-5300. INDIA: \\n+91 22 30948601/2. JAPAN: +65 6542 9595 (24 時間日本語対\\n応無料通話 , シンガポール ). TÜRKIYE: Sağlik Bakanliği Ulusal \\nZehir Merkezi - 114  \\n \\nRecommended use of the chemical and restrictions on use \\nRecommended use  : Emulsifier  \\nSECTION 2. HAZARDS IDENTIFICATION \\nGHS classification in accordance with 29 CFR 1910.1200 \\nNot a hazardous substance or mixture. \\nGHS label elements \\nNot a hazardous substance or mixture. \\nOther hazards \\nMay irritate skin. \\nMay irritate eyes. \\nIngestion may cause irritation to mucous membranes. \\nMay cause irritation of respiratory tract. \\nSECTION 3. COMPOSITION/INFORMATION ON INGREDIENTS \\nSubstance / Mixture  :  Mixture \\nHazardous ingredients \\nChemical name CAS-No. Concentration (% w/w) \\nDistillates (petroleum), hydrotreated heavy \\nparaffinic; Baseoil 64742-54-7 >= 20 -  < 30 \\n \\nThe specific chemical identity and/or exact percentage of composition for one or more ingredients \\nhas been withheld as a trade secret.  SAFETY DATA SHEET   \\n \\nANFOMUL™ 2500-LQ-(RB)   \\nVersion \\n1.0 Revision Date:  \\n01/11/2019 Product code:  \\nPD02500  Date of last issue: \\n- \\nDate of first issue: \\n01/11/2019  Print Date : \\n09/26/2022  \\n \\n2 / 8 SECTION 4. FIRST AID MEASURES \\nIf inhaled  : If breathed in, move person into fresh air. \\nIf symptoms persist, call a physician.  \\nIn case of skin contact  : In case of contact, immediately flush skin with soap and plenty \\nof water. \\nIf symptoms persist, call a physician.  \\nIn case of eye contact  : In the case of contact with eyes, rinse immediately with plenty \\nof water and seek medical advice.  \\nIf swallowed  : If large quantities of this material are swallowed, call a \\nphysician immediately.  \\nMost important symptoms \\nand effects, both acute and \\ndelayed  : None known.  \\nSECTION 5. FIRE-FIGHTING MEASURES \\nFlammable properties \\nFlash point : > 212 °F / > 100 °C \\nMethod: open cup \\n \\nSuitable extinguishing media  : Use extinguishing measures that are appropriate to local \\ncircumstances and the surrounding environment. \\nUse water spray, alcohol-resistant foam, dry chemical or \\ncarbon dioxide.  \\nUnsuitable extinguishing \\nmedia  : High volume water jet  \\nSpecific hazards during fire \\nfighting  : Do not use a solid water stream as it may scatter and spread \\nfire. \\n \\nSpecific extinguishing meth-\\nods  : Standard procedure for chemical fires.  \\nFurther information : Use water spray to cool unopened containers.  \\nSpecial protective equipment \\nfor fire-fighters  : In the event of fire, wear self-contained breathing apparatus.  \\nSECTION 6. ACCIDENTAL RELEASE MEASURES \\nPersonal precautions, protec-\\ntive equipment and emer-\\ngency procedures \\n : Ensure adequate ventilation. \\nUse personal protective equipment. \\n \\nMethods and materials for \\ncontainment and cleaning up \\n : Soak up with inert absorbent material. \\nSweep up and shovel into suitable containers for disposal. \\n \\nSECTION 7. HANDLING AND STORAGE \\nAdvice on protection against \\nfire and explosion \\n :  Normal measures for preventive fire protection. \\n \\nAdvice on safe handling  : Provide sufficient air exchange and/or exhaust in work rooms. \\nAvoid contact with skin, eyes and clothing.  \\nConditions for safe storage  : Store in original container. \",\n",
              "  {'entities': [[252, 273, 'PRODUCT NAME'],\n",
              "    [292, 329, 'CHEMICAL'],\n",
              "    [397, 407, 'SUPPLIER'],\n",
              "    [1341, 1378, 'HAZARD']]}],\n",
              " ['SAFETY DATA SHEET \\naccording to Regulation (EC) No. 1907/2006  \\n \\nATMER™ 1013-PA-(RB)  \\n  \\nVersion \\n1.1 Revision Date:  \\n07.10.2021 Product code:  \\nGS00446  Date of last issue: \\n20.12.2019 \\nDate of first issue: \\n20.12.2019  Print Date : \\n27.09.2022  \\n \\n1 / 10 SECTION 1: Identification of the substance/mixture and of the company/undertaking \\n1.1 Product identifier\\nProduct name : ATMER™ 1013-PA-(RB) \\n \\n1.2 Relevant identified uses of the substance or mixture and uses advised against \\nUse of the Sub-\\nstance/Mixture \\n : Raw material \\n \\n1.3 Details of the supplier of the safety data sheet \\nCompany \\n : Croda Inc. \\n777 Scudders Mill Road, Bldg. 2 \\nSuite 200 \\nPlainsboro, NJ 08536  \\nUS \\n \\n \\nTelephone \\n : +16092122500 \\n \\nTelefax \\n : +16092122501 \\n \\nE-mail address : Sds.compiler@croda.com \\n1.4 Emergency telephone number \\nEmergency telephone number  : USA: 24 Hour Emergency Response Information CHEMTREC \\ntoll free: 1-800-424-9300; direct/international: 1-703-527-3887. \\nCANADA: GFL 1-877-898-7222. EUROPE: 00 32 3575 5555. \\nASIA PACIFIC - excl. China:+65 6542-9595. CHINA: +86 816-\\n635 2206. AUSTRALIA: +61 2 7808 3390. SOUTH AFRICA: \\n+32 3 575 55 55. BRASIL: Ambipar 0800 117 2020. LATAM: \\nSuatrans (+55) 11 98149-0850 / (+55) 19 3833-5300. INDIA: \\n+91 22 30948601/2. JAPAN: +65 6542 9595 (24 時間日本語対\\n応無料通話 , シンガポール ). TÜRKIYE: Sağlik Bakanliği Ulusal \\nZehir Merkezi - 114 \\n \\nSECTION 2: Hazards identification \\n2.1 Classification of the substance or mixture \\nClassification (REGULATION (EC) No 1272/2008) \\nNot a hazardous substance or mixture. \\n2.2 Label elements \\nLabelling  (REGULATION (EC) No 1272/2008) \\nNot a hazardous substance or mixture. \\n SAFETY DATA SHEET \\naccording to Regulation (EC) No. 1907/2006  \\n \\nATMER™ 1013-PA-(RB)  \\n  \\nVersion \\n1.1 Revision Date:  \\n07.10.2021 Product code:  \\nGS00446  Date of last issue: \\n20.12.2019 \\nDate of first issue: \\n20.12.2019  Print Date : \\n27.09.2022  \\n \\n2 / 10 2.3 Other hazards \\n \\nThis substance/mixture contains no components considered to be either persistent, bioaccumula-\\ntive and toxic (PBT), or very persistent and very bioaccumulative (vPvB) at levels of 0.1% or \\nhigher. \\nSECTION 3: Composition/information on ingredients \\n3.1 Substances \\nChemical nature \\n : Polymer additive \\n \\nComponents \\nRemarks  :  No hazardous ingredients \\n \\n \\nSECTION 4: First aid measures \\n4.1 Description of first aid measures \\nIf inhaled \\n :  If symptoms persist, call a physician. \\n \\nIn case of skin contact \\n :  Wash off with soap and plenty of water. \\nIf symptoms persist, call a physician. \\n \\nIn case of eye contact \\n :  Immediately flush eye(s) with plenty of water. \\nIf eye irritation persists, consult a specialist. \\n \\nIf swallowed \\n :  If symptoms persist, call a physician. \\n \\n4.2 Most important symptoms and effects, both acute and delayed \\nSymptoms : None known. \\n \\n4.3 Indication of any immediate medical attention and special treatment needed \\nTreatment \\n : None known. \\nSECTION 5: Firefighting measures \\n5.1 Extinguishing media \\nSuitable extinguishing media \\n :  Use extinguishing measures that are appropriate to local cir-\\ncumstances and the surrounding environment. \\nUse water spray, alcohol-resistant foam, dry chemical or car-\\nbon dioxide. \\n \\nUnsuitable extinguishing \\nmedia \\n :  High volume water jet \\n ',\n",
              "  {'entities': [[381, 400, 'PRODUCT NAME'],\n",
              "    [522, 534, 'USE OF SUBSTANCE/MIXTURE'],\n",
              "    [604, 614, 'SUPPLIER'],\n",
              "    [1508, 1545, 'HAZARD']]}]]"
            ]
          },
          "metadata": {},
          "execution_count": 8
        }
      ]
    },
    {
      "cell_type": "code",
      "source": [
        "entity_name = 'PRODUCT NAME'\n",
        "\n",
        "train_data = all_data\n",
        "train_data = [tuple(i) for i in train_data]"
      ],
      "metadata": {
        "id": "hcZ2XF2gYuzC"
      },
      "execution_count": null,
      "outputs": []
    },
    {
      "cell_type": "code",
      "source": [
        "train_data"
      ],
      "metadata": {
        "colab": {
          "base_uri": "https://localhost:8080/"
        },
        "id": "YorOGLixghMR",
        "outputId": "e458ac43-3880-498c-cb08-cb0be2751c38"
      },
      "execution_count": null,
      "outputs": [
        {
          "output_type": "execute_result",
          "data": {
            "text/plain": [
              "[('SAFETY DATA SHEET \\nAccording to REACH Regulation (EC) No 1907/2006, as amended by \\nUK REACH Regulations SI 2019/758 \\n \\nANFOMUL™ 2000-LQ-(RB)  \\n  \\n \\nVersion \\n1.0 Revision Date: \\n12.09.2022 Product code: \\nPS01251  Date of last \\nissue: - \\nDate of first \\nissue: \\n12.09.2022  Print Date : \\n26.09.2022  \\n \\n1 / 13 SECTION 1: Identification of the substance/mixture and of the company/undertaking \\n1.1 Product identifier  \\nProduct name : ANFOMUL™ 2000-LQ-(RB) \\n \\n1.2 Relevant identified uses of the substance or mixture and uses advised against \\nUse of the \\nSubstance/Mixture \\n : Raw material \\n \\n1.3 Details of the supplier of the safety data sheet \\nCompany \\n : Croda Inc. \\n777 Scudders Mill Road, Bldg. 2 \\nSuite 200 \\nPlainsboro, NJ 08536  \\nUS \\n \\n \\nTelephone \\n : +16092122500 \\n \\nTelefax \\n : +16092122501 \\n \\nE-mail address : Sds.compiler@croda.com \\n \\n1.4 Emergency telephone number \\nEmergency telephone number  : USA: 24 Hour Emergency Response Information CHEMTREC \\ntoll free: 1-800-424-9300; direct/international: 1-703-527-3887. \\nCANADA: GFL 1-877-898-7222. EUROPE: 00 32 3575 5555. \\nASIA PACIFIC - excl. China:+65 6542-9595. CHINA: +86 816-\\n635 2206. AUSTRALIA: +61 2 7808 3390. SOUTH AFRICA: \\n+32 3 575 55 55. BRASIL: Ambipar 0800 117 2020. LATAM: \\nSuatrans (+55) 11 98149-0850 / (+55) 19 3833-5300. INDIA: \\n+91 22 30948601/2. JAPAN: +65 6542 9595 (24 時間日本語対\\n応無料通話 , シンガポール ). TÜRKIYE: Sağlik Bakanliği Ulusal \\nZehir Merkezi - 114 \\n \\nSECTION 2: Hazards identification \\n2.1 Classification of the substance or mixture \\nClassification (REGULATION (EC) No 1272/2008) as amended by GB-CLP Regulation, UK \\nSI 2019/720, and UK SI 2020/1567) \\n \\nNot a hazardous substance or mixture. SAFETY DATA SHEET \\nAccording to REACH Regulation (EC) No 1907/2006, as amended by \\nUK REACH Regulations SI 2019/758 \\n \\nANFOMUL™ 2000-LQ-(RB)  \\n  \\n \\nVersion \\n1.0 Revision Date: \\n12.09.2022 Product code: \\nPS01251  Date of last \\nissue: - \\nDate of first \\nissue: \\n12.09.2022  Print Date : \\n26.09.2022  \\n \\n2 / 13 2.2 Label elements \\nLabelling (REGULATION (EC) No 1272/2008) as amended by GB-CLP Regulation, UK SI \\n2019/720, and UK SI 2020/1567) \\n \\nNot a hazardous substance or mixture. \\n \\nAdditional Labelling \\nEUH208  Contains Maleic anhydride.  \\nMay produce an allergic reaction. \\n \\nThe following percentage of the mixture consists of ingredient(s) with unknown acute toxicity: \\n70.2 % \\nThe following percentage of the mixture consists of ingredient(s) with unknown hazards to the \\naquatic environment: 70.2 % \\n2.3 Other hazards \\nThis substance/mixture contains no components considered to be either persistent, \\nbioaccumulative and toxic (PBT), or very persistent and very bioaccumulative (vPvB) at levels of \\n0.1% or higher. \\nSECTION 3: Composition/information on ingredients \\n3.2 Mixtures \\nComponents \\nChemical name CAS-No. \\nEC-No. \\nIndex-No. \\nRegistration number Classification \\n Concentration \\n(% w/w) \\nDistillates (petroleum),solvent-\\ndewaxed heavy paraffinic Not Assigned \\n \\n01-2119471299-27-\\nXXXX Asp. Tox. 1; H304 >= 20 - < 30  \\nMaleic anhydride 108-31-6 \\n203-571-6 \\n607-096-00-9 Acute Tox. 4; H302 \\nSkin Corr. 1B; \\nH314 \\nResp. Sens. 1; \\nH334 \\nSkin Sens. 1; H317 \\nSTOT RE 1; H372 \\nEye Dam. 1; H318 >= 0.1 - < 1  \\n \\nFor explanation of abbreviations see section 16. \\n \\nSECTION 4: First aid measures \\n4.1 Description of first aid measures ',\n",
              "  {'entities': [[430, 451, 'PRODUCT NAME'],\n",
              "    [572, 584, 'USE OF SUBSTANCE/MIXTURE'],\n",
              "    [1633, 1670, 'HAZARD'],\n",
              "    [3005, 3021, 'CHEMICAL']]}),\n",
              " (\"SAFETY DATA SHEET   \\n \\nANFOMUL™ 2500-LQ-(RB)   \\nVersion \\n1.0 Revision Date:  \\n01/11/2019 Product code:  \\nPD02500  Date of last issue: \\n- \\nDate of first issue: \\n01/11/2019  Print Date : \\n09/26/2022  \\n \\n1 / 8 SECTION 1. IDENTIFICATION \\n \\nProduct name  : ANFOMUL™ 2500-LQ-(RB) \\nChemical name  : Polyisobutene lactone, based polymer.  \\nManufacturer or supplier's details \\nCompany name of supplier   : Croda Inc.   \\nAddress  : 777 Scudders Mill Road, Bldg. 2 \\nSuite 200 \\nPlainsboro, NJ 08536  \\nUS  \\nTelephone  : (609) 212-2500  \\nTelefax  : (609) 212-2501  \\nEmergency telephone  : USA: 24 Hour Emergency Response Information CHEMTREC \\ntoll free: 1-800-424-9300; direct/international: 1-703-527-3887. \\nCANADA: GFL 1-877-898-7222. EUROPE: 00 32 3575 5555. \\nASIA PACIFIC - excl. China:+65 6542-9595. CHINA: +86 816-\\n635 2206. AUSTRALIA: +61 2 7808 3390. SOUTH AFRICA: \\n+32 3 575 55 55. BRASIL: Ambipar 0800 117 2020. LATAM: \\nSuatrans (+55) 11 98149-0850 / (+55) 19 3833-5300. INDIA: \\n+91 22 30948601/2. JAPAN: +65 6542 9595 (24 時間日本語対\\n応無料通話 , シンガポール ). TÜRKIYE: Sağlik Bakanliği Ulusal \\nZehir Merkezi - 114  \\n \\nRecommended use of the chemical and restrictions on use \\nRecommended use  : Emulsifier  \\nSECTION 2. HAZARDS IDENTIFICATION \\nGHS classification in accordance with 29 CFR 1910.1200 \\nNot a hazardous substance or mixture. \\nGHS label elements \\nNot a hazardous substance or mixture. \\nOther hazards \\nMay irritate skin. \\nMay irritate eyes. \\nIngestion may cause irritation to mucous membranes. \\nMay cause irritation of respiratory tract. \\nSECTION 3. COMPOSITION/INFORMATION ON INGREDIENTS \\nSubstance / Mixture  :  Mixture \\nHazardous ingredients \\nChemical name CAS-No. Concentration (% w/w) \\nDistillates (petroleum), hydrotreated heavy \\nparaffinic; Baseoil 64742-54-7 >= 20 -  < 30 \\n \\nThe specific chemical identity and/or exact percentage of composition for one or more ingredients \\nhas been withheld as a trade secret.  SAFETY DATA SHEET   \\n \\nANFOMUL™ 2500-LQ-(RB)   \\nVersion \\n1.0 Revision Date:  \\n01/11/2019 Product code:  \\nPD02500  Date of last issue: \\n- \\nDate of first issue: \\n01/11/2019  Print Date : \\n09/26/2022  \\n \\n2 / 8 SECTION 4. FIRST AID MEASURES \\nIf inhaled  : If breathed in, move person into fresh air. \\nIf symptoms persist, call a physician.  \\nIn case of skin contact  : In case of contact, immediately flush skin with soap and plenty \\nof water. \\nIf symptoms persist, call a physician.  \\nIn case of eye contact  : In the case of contact with eyes, rinse immediately with plenty \\nof water and seek medical advice.  \\nIf swallowed  : If large quantities of this material are swallowed, call a \\nphysician immediately.  \\nMost important symptoms \\nand effects, both acute and \\ndelayed  : None known.  \\nSECTION 5. FIRE-FIGHTING MEASURES \\nFlammable properties \\nFlash point : > 212 °F / > 100 °C \\nMethod: open cup \\n \\nSuitable extinguishing media  : Use extinguishing measures that are appropriate to local \\ncircumstances and the surrounding environment. \\nUse water spray, alcohol-resistant foam, dry chemical or \\ncarbon dioxide.  \\nUnsuitable extinguishing \\nmedia  : High volume water jet  \\nSpecific hazards during fire \\nfighting  : Do not use a solid water stream as it may scatter and spread \\nfire. \\n \\nSpecific extinguishing meth-\\nods  : Standard procedure for chemical fires.  \\nFurther information : Use water spray to cool unopened containers.  \\nSpecial protective equipment \\nfor fire-fighters  : In the event of fire, wear self-contained breathing apparatus.  \\nSECTION 6. ACCIDENTAL RELEASE MEASURES \\nPersonal precautions, protec-\\ntive equipment and emer-\\ngency procedures \\n : Ensure adequate ventilation. \\nUse personal protective equipment. \\n \\nMethods and materials for \\ncontainment and cleaning up \\n : Soak up with inert absorbent material. \\nSweep up and shovel into suitable containers for disposal. \\n \\nSECTION 7. HANDLING AND STORAGE \\nAdvice on protection against \\nfire and explosion \\n :  Normal measures for preventive fire protection. \\n \\nAdvice on safe handling  : Provide sufficient air exchange and/or exhaust in work rooms. \\nAvoid contact with skin, eyes and clothing.  \\nConditions for safe storage  : Store in original container. \",\n",
              "  {'entities': [[252, 273, 'PRODUCT NAME'],\n",
              "    [292, 329, 'CHEMICAL'],\n",
              "    [397, 407, 'SUPPLIER'],\n",
              "    [1341, 1378, 'HAZARD']]}),\n",
              " ('SAFETY DATA SHEET \\naccording to Regulation (EC) No. 1907/2006  \\n \\nATMER™ 1013-PA-(RB)  \\n  \\nVersion \\n1.1 Revision Date:  \\n07.10.2021 Product code:  \\nGS00446  Date of last issue: \\n20.12.2019 \\nDate of first issue: \\n20.12.2019  Print Date : \\n27.09.2022  \\n \\n1 / 10 SECTION 1: Identification of the substance/mixture and of the company/undertaking \\n1.1 Product identifier\\nProduct name : ATMER™ 1013-PA-(RB) \\n \\n1.2 Relevant identified uses of the substance or mixture and uses advised against \\nUse of the Sub-\\nstance/Mixture \\n : Raw material \\n \\n1.3 Details of the supplier of the safety data sheet \\nCompany \\n : Croda Inc. \\n777 Scudders Mill Road, Bldg. 2 \\nSuite 200 \\nPlainsboro, NJ 08536  \\nUS \\n \\n \\nTelephone \\n : +16092122500 \\n \\nTelefax \\n : +16092122501 \\n \\nE-mail address : Sds.compiler@croda.com \\n1.4 Emergency telephone number \\nEmergency telephone number  : USA: 24 Hour Emergency Response Information CHEMTREC \\ntoll free: 1-800-424-9300; direct/international: 1-703-527-3887. \\nCANADA: GFL 1-877-898-7222. EUROPE: 00 32 3575 5555. \\nASIA PACIFIC - excl. China:+65 6542-9595. CHINA: +86 816-\\n635 2206. AUSTRALIA: +61 2 7808 3390. SOUTH AFRICA: \\n+32 3 575 55 55. BRASIL: Ambipar 0800 117 2020. LATAM: \\nSuatrans (+55) 11 98149-0850 / (+55) 19 3833-5300. INDIA: \\n+91 22 30948601/2. JAPAN: +65 6542 9595 (24 時間日本語対\\n応無料通話 , シンガポール ). TÜRKIYE: Sağlik Bakanliği Ulusal \\nZehir Merkezi - 114 \\n \\nSECTION 2: Hazards identification \\n2.1 Classification of the substance or mixture \\nClassification (REGULATION (EC) No 1272/2008) \\nNot a hazardous substance or mixture. \\n2.2 Label elements \\nLabelling  (REGULATION (EC) No 1272/2008) \\nNot a hazardous substance or mixture. \\n SAFETY DATA SHEET \\naccording to Regulation (EC) No. 1907/2006  \\n \\nATMER™ 1013-PA-(RB)  \\n  \\nVersion \\n1.1 Revision Date:  \\n07.10.2021 Product code:  \\nGS00446  Date of last issue: \\n20.12.2019 \\nDate of first issue: \\n20.12.2019  Print Date : \\n27.09.2022  \\n \\n2 / 10 2.3 Other hazards \\n \\nThis substance/mixture contains no components considered to be either persistent, bioaccumula-\\ntive and toxic (PBT), or very persistent and very bioaccumulative (vPvB) at levels of 0.1% or \\nhigher. \\nSECTION 3: Composition/information on ingredients \\n3.1 Substances \\nChemical nature \\n : Polymer additive \\n \\nComponents \\nRemarks  :  No hazardous ingredients \\n \\n \\nSECTION 4: First aid measures \\n4.1 Description of first aid measures \\nIf inhaled \\n :  If symptoms persist, call a physician. \\n \\nIn case of skin contact \\n :  Wash off with soap and plenty of water. \\nIf symptoms persist, call a physician. \\n \\nIn case of eye contact \\n :  Immediately flush eye(s) with plenty of water. \\nIf eye irritation persists, consult a specialist. \\n \\nIf swallowed \\n :  If symptoms persist, call a physician. \\n \\n4.2 Most important symptoms and effects, both acute and delayed \\nSymptoms : None known. \\n \\n4.3 Indication of any immediate medical attention and special treatment needed \\nTreatment \\n : None known. \\nSECTION 5: Firefighting measures \\n5.1 Extinguishing media \\nSuitable extinguishing media \\n :  Use extinguishing measures that are appropriate to local cir-\\ncumstances and the surrounding environment. \\nUse water spray, alcohol-resistant foam, dry chemical or car-\\nbon dioxide. \\n \\nUnsuitable extinguishing \\nmedia \\n :  High volume water jet \\n ',\n",
              "  {'entities': [[381, 400, 'PRODUCT NAME'],\n",
              "    [522, 534, 'USE OF SUBSTANCE/MIXTURE'],\n",
              "    [604, 614, 'SUPPLIER'],\n",
              "    [1508, 1545, 'HAZARD']]})]"
            ]
          },
          "metadata": {},
          "execution_count": 10
        }
      ]
    },
    {
      "cell_type": "code",
      "source": [
        "for i in train_data:\n",
        "  if i[1]['entities'] == []:\n",
        "    i[1]['entities'] = (0,0,entity_name)\n",
        "  else:\n",
        "    i[1]['entities'][0] = tuple(i[1]['entities'][0])"
      ],
      "metadata": {
        "id": "Ns7duosZZEmg"
      },
      "execution_count": null,
      "outputs": []
    },
    {
      "cell_type": "code",
      "source": [
        "train_data"
      ],
      "metadata": {
        "colab": {
          "base_uri": "https://localhost:8080/"
        },
        "id": "M0kobp44b9PI",
        "outputId": "15a9bf38-531b-4224-da73-04eb3b214c97"
      },
      "execution_count": null,
      "outputs": [
        {
          "output_type": "execute_result",
          "data": {
            "text/plain": [
              "[('SAFETY DATA SHEET \\nAccording to REACH Regulation (EC) No 1907/2006, as amended by \\nUK REACH Regulations SI 2019/758 \\n \\nANFOMUL™ 2000-LQ-(RB)  \\n  \\n \\nVersion \\n1.0 Revision Date: \\n12.09.2022 Product code: \\nPS01251  Date of last \\nissue: - \\nDate of first \\nissue: \\n12.09.2022  Print Date : \\n26.09.2022  \\n \\n1 / 13 SECTION 1: Identification of the substance/mixture and of the company/undertaking \\n1.1 Product identifier  \\nProduct name : ANFOMUL™ 2000-LQ-(RB) \\n \\n1.2 Relevant identified uses of the substance or mixture and uses advised against \\nUse of the \\nSubstance/Mixture \\n : Raw material \\n \\n1.3 Details of the supplier of the safety data sheet \\nCompany \\n : Croda Inc. \\n777 Scudders Mill Road, Bldg. 2 \\nSuite 200 \\nPlainsboro, NJ 08536  \\nUS \\n \\n \\nTelephone \\n : +16092122500 \\n \\nTelefax \\n : +16092122501 \\n \\nE-mail address : Sds.compiler@croda.com \\n \\n1.4 Emergency telephone number \\nEmergency telephone number  : USA: 24 Hour Emergency Response Information CHEMTREC \\ntoll free: 1-800-424-9300; direct/international: 1-703-527-3887. \\nCANADA: GFL 1-877-898-7222. EUROPE: 00 32 3575 5555. \\nASIA PACIFIC - excl. China:+65 6542-9595. CHINA: +86 816-\\n635 2206. AUSTRALIA: +61 2 7808 3390. SOUTH AFRICA: \\n+32 3 575 55 55. BRASIL: Ambipar 0800 117 2020. LATAM: \\nSuatrans (+55) 11 98149-0850 / (+55) 19 3833-5300. INDIA: \\n+91 22 30948601/2. JAPAN: +65 6542 9595 (24 時間日本語対\\n応無料通話 , シンガポール ). TÜRKIYE: Sağlik Bakanliği Ulusal \\nZehir Merkezi - 114 \\n \\nSECTION 2: Hazards identification \\n2.1 Classification of the substance or mixture \\nClassification (REGULATION (EC) No 1272/2008) as amended by GB-CLP Regulation, UK \\nSI 2019/720, and UK SI 2020/1567) \\n \\nNot a hazardous substance or mixture. SAFETY DATA SHEET \\nAccording to REACH Regulation (EC) No 1907/2006, as amended by \\nUK REACH Regulations SI 2019/758 \\n \\nANFOMUL™ 2000-LQ-(RB)  \\n  \\n \\nVersion \\n1.0 Revision Date: \\n12.09.2022 Product code: \\nPS01251  Date of last \\nissue: - \\nDate of first \\nissue: \\n12.09.2022  Print Date : \\n26.09.2022  \\n \\n2 / 13 2.2 Label elements \\nLabelling (REGULATION (EC) No 1272/2008) as amended by GB-CLP Regulation, UK SI \\n2019/720, and UK SI 2020/1567) \\n \\nNot a hazardous substance or mixture. \\n \\nAdditional Labelling \\nEUH208  Contains Maleic anhydride.  \\nMay produce an allergic reaction. \\n \\nThe following percentage of the mixture consists of ingredient(s) with unknown acute toxicity: \\n70.2 % \\nThe following percentage of the mixture consists of ingredient(s) with unknown hazards to the \\naquatic environment: 70.2 % \\n2.3 Other hazards \\nThis substance/mixture contains no components considered to be either persistent, \\nbioaccumulative and toxic (PBT), or very persistent and very bioaccumulative (vPvB) at levels of \\n0.1% or higher. \\nSECTION 3: Composition/information on ingredients \\n3.2 Mixtures \\nComponents \\nChemical name CAS-No. \\nEC-No. \\nIndex-No. \\nRegistration number Classification \\n Concentration \\n(% w/w) \\nDistillates (petroleum),solvent-\\ndewaxed heavy paraffinic Not Assigned \\n \\n01-2119471299-27-\\nXXXX Asp. Tox. 1; H304 >= 20 - < 30  \\nMaleic anhydride 108-31-6 \\n203-571-6 \\n607-096-00-9 Acute Tox. 4; H302 \\nSkin Corr. 1B; \\nH314 \\nResp. Sens. 1; \\nH334 \\nSkin Sens. 1; H317 \\nSTOT RE 1; H372 \\nEye Dam. 1; H318 >= 0.1 - < 1  \\n \\nFor explanation of abbreviations see section 16. \\n \\nSECTION 4: First aid measures \\n4.1 Description of first aid measures ',\n",
              "  {'entities': [(430, 451, 'PRODUCT NAME'),\n",
              "    [572, 584, 'USE OF SUBSTANCE/MIXTURE'],\n",
              "    [1633, 1670, 'HAZARD'],\n",
              "    [3005, 3021, 'CHEMICAL']]}),\n",
              " (\"SAFETY DATA SHEET   \\n \\nANFOMUL™ 2500-LQ-(RB)   \\nVersion \\n1.0 Revision Date:  \\n01/11/2019 Product code:  \\nPD02500  Date of last issue: \\n- \\nDate of first issue: \\n01/11/2019  Print Date : \\n09/26/2022  \\n \\n1 / 8 SECTION 1. IDENTIFICATION \\n \\nProduct name  : ANFOMUL™ 2500-LQ-(RB) \\nChemical name  : Polyisobutene lactone, based polymer.  \\nManufacturer or supplier's details \\nCompany name of supplier   : Croda Inc.   \\nAddress  : 777 Scudders Mill Road, Bldg. 2 \\nSuite 200 \\nPlainsboro, NJ 08536  \\nUS  \\nTelephone  : (609) 212-2500  \\nTelefax  : (609) 212-2501  \\nEmergency telephone  : USA: 24 Hour Emergency Response Information CHEMTREC \\ntoll free: 1-800-424-9300; direct/international: 1-703-527-3887. \\nCANADA: GFL 1-877-898-7222. EUROPE: 00 32 3575 5555. \\nASIA PACIFIC - excl. China:+65 6542-9595. CHINA: +86 816-\\n635 2206. AUSTRALIA: +61 2 7808 3390. SOUTH AFRICA: \\n+32 3 575 55 55. BRASIL: Ambipar 0800 117 2020. LATAM: \\nSuatrans (+55) 11 98149-0850 / (+55) 19 3833-5300. INDIA: \\n+91 22 30948601/2. JAPAN: +65 6542 9595 (24 時間日本語対\\n応無料通話 , シンガポール ). TÜRKIYE: Sağlik Bakanliği Ulusal \\nZehir Merkezi - 114  \\n \\nRecommended use of the chemical and restrictions on use \\nRecommended use  : Emulsifier  \\nSECTION 2. HAZARDS IDENTIFICATION \\nGHS classification in accordance with 29 CFR 1910.1200 \\nNot a hazardous substance or mixture. \\nGHS label elements \\nNot a hazardous substance or mixture. \\nOther hazards \\nMay irritate skin. \\nMay irritate eyes. \\nIngestion may cause irritation to mucous membranes. \\nMay cause irritation of respiratory tract. \\nSECTION 3. COMPOSITION/INFORMATION ON INGREDIENTS \\nSubstance / Mixture  :  Mixture \\nHazardous ingredients \\nChemical name CAS-No. Concentration (% w/w) \\nDistillates (petroleum), hydrotreated heavy \\nparaffinic; Baseoil 64742-54-7 >= 20 -  < 30 \\n \\nThe specific chemical identity and/or exact percentage of composition for one or more ingredients \\nhas been withheld as a trade secret.  SAFETY DATA SHEET   \\n \\nANFOMUL™ 2500-LQ-(RB)   \\nVersion \\n1.0 Revision Date:  \\n01/11/2019 Product code:  \\nPD02500  Date of last issue: \\n- \\nDate of first issue: \\n01/11/2019  Print Date : \\n09/26/2022  \\n \\n2 / 8 SECTION 4. FIRST AID MEASURES \\nIf inhaled  : If breathed in, move person into fresh air. \\nIf symptoms persist, call a physician.  \\nIn case of skin contact  : In case of contact, immediately flush skin with soap and plenty \\nof water. \\nIf symptoms persist, call a physician.  \\nIn case of eye contact  : In the case of contact with eyes, rinse immediately with plenty \\nof water and seek medical advice.  \\nIf swallowed  : If large quantities of this material are swallowed, call a \\nphysician immediately.  \\nMost important symptoms \\nand effects, both acute and \\ndelayed  : None known.  \\nSECTION 5. FIRE-FIGHTING MEASURES \\nFlammable properties \\nFlash point : > 212 °F / > 100 °C \\nMethod: open cup \\n \\nSuitable extinguishing media  : Use extinguishing measures that are appropriate to local \\ncircumstances and the surrounding environment. \\nUse water spray, alcohol-resistant foam, dry chemical or \\ncarbon dioxide.  \\nUnsuitable extinguishing \\nmedia  : High volume water jet  \\nSpecific hazards during fire \\nfighting  : Do not use a solid water stream as it may scatter and spread \\nfire. \\n \\nSpecific extinguishing meth-\\nods  : Standard procedure for chemical fires.  \\nFurther information : Use water spray to cool unopened containers.  \\nSpecial protective equipment \\nfor fire-fighters  : In the event of fire, wear self-contained breathing apparatus.  \\nSECTION 6. ACCIDENTAL RELEASE MEASURES \\nPersonal precautions, protec-\\ntive equipment and emer-\\ngency procedures \\n : Ensure adequate ventilation. \\nUse personal protective equipment. \\n \\nMethods and materials for \\ncontainment and cleaning up \\n : Soak up with inert absorbent material. \\nSweep up and shovel into suitable containers for disposal. \\n \\nSECTION 7. HANDLING AND STORAGE \\nAdvice on protection against \\nfire and explosion \\n :  Normal measures for preventive fire protection. \\n \\nAdvice on safe handling  : Provide sufficient air exchange and/or exhaust in work rooms. \\nAvoid contact with skin, eyes and clothing.  \\nConditions for safe storage  : Store in original container. \",\n",
              "  {'entities': [(252, 273, 'PRODUCT NAME'),\n",
              "    [292, 329, 'CHEMICAL'],\n",
              "    [397, 407, 'SUPPLIER'],\n",
              "    [1341, 1378, 'HAZARD']]}),\n",
              " ('SAFETY DATA SHEET \\naccording to Regulation (EC) No. 1907/2006  \\n \\nATMER™ 1013-PA-(RB)  \\n  \\nVersion \\n1.1 Revision Date:  \\n07.10.2021 Product code:  \\nGS00446  Date of last issue: \\n20.12.2019 \\nDate of first issue: \\n20.12.2019  Print Date : \\n27.09.2022  \\n \\n1 / 10 SECTION 1: Identification of the substance/mixture and of the company/undertaking \\n1.1 Product identifier\\nProduct name : ATMER™ 1013-PA-(RB) \\n \\n1.2 Relevant identified uses of the substance or mixture and uses advised against \\nUse of the Sub-\\nstance/Mixture \\n : Raw material \\n \\n1.3 Details of the supplier of the safety data sheet \\nCompany \\n : Croda Inc. \\n777 Scudders Mill Road, Bldg. 2 \\nSuite 200 \\nPlainsboro, NJ 08536  \\nUS \\n \\n \\nTelephone \\n : +16092122500 \\n \\nTelefax \\n : +16092122501 \\n \\nE-mail address : Sds.compiler@croda.com \\n1.4 Emergency telephone number \\nEmergency telephone number  : USA: 24 Hour Emergency Response Information CHEMTREC \\ntoll free: 1-800-424-9300; direct/international: 1-703-527-3887. \\nCANADA: GFL 1-877-898-7222. EUROPE: 00 32 3575 5555. \\nASIA PACIFIC - excl. China:+65 6542-9595. CHINA: +86 816-\\n635 2206. AUSTRALIA: +61 2 7808 3390. SOUTH AFRICA: \\n+32 3 575 55 55. BRASIL: Ambipar 0800 117 2020. LATAM: \\nSuatrans (+55) 11 98149-0850 / (+55) 19 3833-5300. INDIA: \\n+91 22 30948601/2. JAPAN: +65 6542 9595 (24 時間日本語対\\n応無料通話 , シンガポール ). TÜRKIYE: Sağlik Bakanliği Ulusal \\nZehir Merkezi - 114 \\n \\nSECTION 2: Hazards identification \\n2.1 Classification of the substance or mixture \\nClassification (REGULATION (EC) No 1272/2008) \\nNot a hazardous substance or mixture. \\n2.2 Label elements \\nLabelling  (REGULATION (EC) No 1272/2008) \\nNot a hazardous substance or mixture. \\n SAFETY DATA SHEET \\naccording to Regulation (EC) No. 1907/2006  \\n \\nATMER™ 1013-PA-(RB)  \\n  \\nVersion \\n1.1 Revision Date:  \\n07.10.2021 Product code:  \\nGS00446  Date of last issue: \\n20.12.2019 \\nDate of first issue: \\n20.12.2019  Print Date : \\n27.09.2022  \\n \\n2 / 10 2.3 Other hazards \\n \\nThis substance/mixture contains no components considered to be either persistent, bioaccumula-\\ntive and toxic (PBT), or very persistent and very bioaccumulative (vPvB) at levels of 0.1% or \\nhigher. \\nSECTION 3: Composition/information on ingredients \\n3.1 Substances \\nChemical nature \\n : Polymer additive \\n \\nComponents \\nRemarks  :  No hazardous ingredients \\n \\n \\nSECTION 4: First aid measures \\n4.1 Description of first aid measures \\nIf inhaled \\n :  If symptoms persist, call a physician. \\n \\nIn case of skin contact \\n :  Wash off with soap and plenty of water. \\nIf symptoms persist, call a physician. \\n \\nIn case of eye contact \\n :  Immediately flush eye(s) with plenty of water. \\nIf eye irritation persists, consult a specialist. \\n \\nIf swallowed \\n :  If symptoms persist, call a physician. \\n \\n4.2 Most important symptoms and effects, both acute and delayed \\nSymptoms : None known. \\n \\n4.3 Indication of any immediate medical attention and special treatment needed \\nTreatment \\n : None known. \\nSECTION 5: Firefighting measures \\n5.1 Extinguishing media \\nSuitable extinguishing media \\n :  Use extinguishing measures that are appropriate to local cir-\\ncumstances and the surrounding environment. \\nUse water spray, alcohol-resistant foam, dry chemical or car-\\nbon dioxide. \\n \\nUnsuitable extinguishing \\nmedia \\n :  High volume water jet \\n ',\n",
              "  {'entities': [(381, 400, 'PRODUCT NAME'),\n",
              "    [522, 534, 'USE OF SUBSTANCE/MIXTURE'],\n",
              "    [604, 614, 'SUPPLIER'],\n",
              "    [1508, 1545, 'HAZARD']]})]"
            ]
          },
          "metadata": {},
          "execution_count": 12
        }
      ]
    },
    {
      "cell_type": "code",
      "source": [
        "formatted_data = []\n",
        "\n",
        "for text, entities in train_data:\n",
        "    entity_list = []\n",
        "    if isinstance(entities['entities'], tuple):\n",
        "        entity_list.append(entities['entities'])\n",
        "    else:\n",
        "        entity_list.extend(entities['entities'])\n",
        "    formatted_data.append((text, {'entities': entity_list}))\n",
        "\n",
        "train_data = formatted_data\n",
        "print(formatted_data)"
      ],
      "metadata": {
        "colab": {
          "base_uri": "https://localhost:8080/"
        },
        "id": "ht6QUe3Wi0Cr",
        "outputId": "6c096de8-4370-40d6-ded4-a646f1ba437e"
      },
      "execution_count": null,
      "outputs": [
        {
          "output_type": "stream",
          "name": "stdout",
          "text": [
            "[('SAFETY DATA SHEET \\nAccording to REACH Regulation (EC) No 1907/2006, as amended by \\nUK REACH Regulations SI 2019/758 \\n \\nANFOMUL™ 2000-LQ-(RB)  \\n  \\n \\nVersion \\n1.0 Revision Date: \\n12.09.2022 Product code: \\nPS01251  Date of last \\nissue: - \\nDate of first \\nissue: \\n12.09.2022  Print Date : \\n26.09.2022  \\n \\n1 / 13 SECTION 1: Identification of the substance/mixture and of the company/undertaking \\n1.1 Product identifier  \\nProduct name : ANFOMUL™ 2000-LQ-(RB) \\n \\n1.2 Relevant identified uses of the substance or mixture and uses advised against \\nUse of the \\nSubstance/Mixture \\n : Raw material \\n \\n1.3 Details of the supplier of the safety data sheet \\nCompany \\n : Croda Inc. \\n777 Scudders Mill Road, Bldg. 2 \\nSuite 200 \\nPlainsboro, NJ 08536  \\nUS \\n \\n \\nTelephone \\n : +16092122500 \\n \\nTelefax \\n : +16092122501 \\n \\nE-mail address : Sds.compiler@croda.com \\n \\n1.4 Emergency telephone number \\nEmergency telephone number  : USA: 24 Hour Emergency Response Information CHEMTREC \\ntoll free: 1-800-424-9300; direct/international: 1-703-527-3887. \\nCANADA: GFL 1-877-898-7222. EUROPE: 00 32 3575 5555. \\nASIA PACIFIC - excl. China:+65 6542-9595. CHINA: +86 816-\\n635 2206. AUSTRALIA: +61 2 7808 3390. SOUTH AFRICA: \\n+32 3 575 55 55. BRASIL: Ambipar 0800 117 2020. LATAM: \\nSuatrans (+55) 11 98149-0850 / (+55) 19 3833-5300. INDIA: \\n+91 22 30948601/2. JAPAN: +65 6542 9595 (24 時間日本語対\\n応無料通話 , シンガポール ). TÜRKIYE: Sağlik Bakanliği Ulusal \\nZehir Merkezi - 114 \\n \\nSECTION 2: Hazards identification \\n2.1 Classification of the substance or mixture \\nClassification (REGULATION (EC) No 1272/2008) as amended by GB-CLP Regulation, UK \\nSI 2019/720, and UK SI 2020/1567) \\n \\nNot a hazardous substance or mixture. SAFETY DATA SHEET \\nAccording to REACH Regulation (EC) No 1907/2006, as amended by \\nUK REACH Regulations SI 2019/758 \\n \\nANFOMUL™ 2000-LQ-(RB)  \\n  \\n \\nVersion \\n1.0 Revision Date: \\n12.09.2022 Product code: \\nPS01251  Date of last \\nissue: - \\nDate of first \\nissue: \\n12.09.2022  Print Date : \\n26.09.2022  \\n \\n2 / 13 2.2 Label elements \\nLabelling (REGULATION (EC) No 1272/2008) as amended by GB-CLP Regulation, UK SI \\n2019/720, and UK SI 2020/1567) \\n \\nNot a hazardous substance or mixture. \\n \\nAdditional Labelling \\nEUH208  Contains Maleic anhydride.  \\nMay produce an allergic reaction. \\n \\nThe following percentage of the mixture consists of ingredient(s) with unknown acute toxicity: \\n70.2 % \\nThe following percentage of the mixture consists of ingredient(s) with unknown hazards to the \\naquatic environment: 70.2 % \\n2.3 Other hazards \\nThis substance/mixture contains no components considered to be either persistent, \\nbioaccumulative and toxic (PBT), or very persistent and very bioaccumulative (vPvB) at levels of \\n0.1% or higher. \\nSECTION 3: Composition/information on ingredients \\n3.2 Mixtures \\nComponents \\nChemical name CAS-No. \\nEC-No. \\nIndex-No. \\nRegistration number Classification \\n Concentration \\n(% w/w) \\nDistillates (petroleum),solvent-\\ndewaxed heavy paraffinic Not Assigned \\n \\n01-2119471299-27-\\nXXXX Asp. Tox. 1; H304 >= 20 - < 30  \\nMaleic anhydride 108-31-6 \\n203-571-6 \\n607-096-00-9 Acute Tox. 4; H302 \\nSkin Corr. 1B; \\nH314 \\nResp. Sens. 1; \\nH334 \\nSkin Sens. 1; H317 \\nSTOT RE 1; H372 \\nEye Dam. 1; H318 >= 0.1 - < 1  \\n \\nFor explanation of abbreviations see section 16. \\n \\nSECTION 4: First aid measures \\n4.1 Description of first aid measures ', {'entities': [(430, 451, 'PRODUCT NAME'), [572, 584, 'USE OF SUBSTANCE/MIXTURE'], [1633, 1670, 'HAZARD'], [3005, 3021, 'CHEMICAL']]}), (\"SAFETY DATA SHEET   \\n \\nANFOMUL™ 2500-LQ-(RB)   \\nVersion \\n1.0 Revision Date:  \\n01/11/2019 Product code:  \\nPD02500  Date of last issue: \\n- \\nDate of first issue: \\n01/11/2019  Print Date : \\n09/26/2022  \\n \\n1 / 8 SECTION 1. IDENTIFICATION \\n \\nProduct name  : ANFOMUL™ 2500-LQ-(RB) \\nChemical name  : Polyisobutene lactone, based polymer.  \\nManufacturer or supplier's details \\nCompany name of supplier   : Croda Inc.   \\nAddress  : 777 Scudders Mill Road, Bldg. 2 \\nSuite 200 \\nPlainsboro, NJ 08536  \\nUS  \\nTelephone  : (609) 212-2500  \\nTelefax  : (609) 212-2501  \\nEmergency telephone  : USA: 24 Hour Emergency Response Information CHEMTREC \\ntoll free: 1-800-424-9300; direct/international: 1-703-527-3887. \\nCANADA: GFL 1-877-898-7222. EUROPE: 00 32 3575 5555. \\nASIA PACIFIC - excl. China:+65 6542-9595. CHINA: +86 816-\\n635 2206. AUSTRALIA: +61 2 7808 3390. SOUTH AFRICA: \\n+32 3 575 55 55. BRASIL: Ambipar 0800 117 2020. LATAM: \\nSuatrans (+55) 11 98149-0850 / (+55) 19 3833-5300. INDIA: \\n+91 22 30948601/2. JAPAN: +65 6542 9595 (24 時間日本語対\\n応無料通話 , シンガポール ). TÜRKIYE: Sağlik Bakanliği Ulusal \\nZehir Merkezi - 114  \\n \\nRecommended use of the chemical and restrictions on use \\nRecommended use  : Emulsifier  \\nSECTION 2. HAZARDS IDENTIFICATION \\nGHS classification in accordance with 29 CFR 1910.1200 \\nNot a hazardous substance or mixture. \\nGHS label elements \\nNot a hazardous substance or mixture. \\nOther hazards \\nMay irritate skin. \\nMay irritate eyes. \\nIngestion may cause irritation to mucous membranes. \\nMay cause irritation of respiratory tract. \\nSECTION 3. COMPOSITION/INFORMATION ON INGREDIENTS \\nSubstance / Mixture  :  Mixture \\nHazardous ingredients \\nChemical name CAS-No. Concentration (% w/w) \\nDistillates (petroleum), hydrotreated heavy \\nparaffinic; Baseoil 64742-54-7 >= 20 -  < 30 \\n \\nThe specific chemical identity and/or exact percentage of composition for one or more ingredients \\nhas been withheld as a trade secret.  SAFETY DATA SHEET   \\n \\nANFOMUL™ 2500-LQ-(RB)   \\nVersion \\n1.0 Revision Date:  \\n01/11/2019 Product code:  \\nPD02500  Date of last issue: \\n- \\nDate of first issue: \\n01/11/2019  Print Date : \\n09/26/2022  \\n \\n2 / 8 SECTION 4. FIRST AID MEASURES \\nIf inhaled  : If breathed in, move person into fresh air. \\nIf symptoms persist, call a physician.  \\nIn case of skin contact  : In case of contact, immediately flush skin with soap and plenty \\nof water. \\nIf symptoms persist, call a physician.  \\nIn case of eye contact  : In the case of contact with eyes, rinse immediately with plenty \\nof water and seek medical advice.  \\nIf swallowed  : If large quantities of this material are swallowed, call a \\nphysician immediately.  \\nMost important symptoms \\nand effects, both acute and \\ndelayed  : None known.  \\nSECTION 5. FIRE-FIGHTING MEASURES \\nFlammable properties \\nFlash point : > 212 °F / > 100 °C \\nMethod: open cup \\n \\nSuitable extinguishing media  : Use extinguishing measures that are appropriate to local \\ncircumstances and the surrounding environment. \\nUse water spray, alcohol-resistant foam, dry chemical or \\ncarbon dioxide.  \\nUnsuitable extinguishing \\nmedia  : High volume water jet  \\nSpecific hazards during fire \\nfighting  : Do not use a solid water stream as it may scatter and spread \\nfire. \\n \\nSpecific extinguishing meth-\\nods  : Standard procedure for chemical fires.  \\nFurther information : Use water spray to cool unopened containers.  \\nSpecial protective equipment \\nfor fire-fighters  : In the event of fire, wear self-contained breathing apparatus.  \\nSECTION 6. ACCIDENTAL RELEASE MEASURES \\nPersonal precautions, protec-\\ntive equipment and emer-\\ngency procedures \\n : Ensure adequate ventilation. \\nUse personal protective equipment. \\n \\nMethods and materials for \\ncontainment and cleaning up \\n : Soak up with inert absorbent material. \\nSweep up and shovel into suitable containers for disposal. \\n \\nSECTION 7. HANDLING AND STORAGE \\nAdvice on protection against \\nfire and explosion \\n :  Normal measures for preventive fire protection. \\n \\nAdvice on safe handling  : Provide sufficient air exchange and/or exhaust in work rooms. \\nAvoid contact with skin, eyes and clothing.  \\nConditions for safe storage  : Store in original container. \", {'entities': [(252, 273, 'PRODUCT NAME'), [292, 329, 'CHEMICAL'], [397, 407, 'SUPPLIER'], [1341, 1378, 'HAZARD']]}), ('SAFETY DATA SHEET \\naccording to Regulation (EC) No. 1907/2006  \\n \\nATMER™ 1013-PA-(RB)  \\n  \\nVersion \\n1.1 Revision Date:  \\n07.10.2021 Product code:  \\nGS00446  Date of last issue: \\n20.12.2019 \\nDate of first issue: \\n20.12.2019  Print Date : \\n27.09.2022  \\n \\n1 / 10 SECTION 1: Identification of the substance/mixture and of the company/undertaking \\n1.1 Product identifier\\nProduct name : ATMER™ 1013-PA-(RB) \\n \\n1.2 Relevant identified uses of the substance or mixture and uses advised against \\nUse of the Sub-\\nstance/Mixture \\n : Raw material \\n \\n1.3 Details of the supplier of the safety data sheet \\nCompany \\n : Croda Inc. \\n777 Scudders Mill Road, Bldg. 2 \\nSuite 200 \\nPlainsboro, NJ 08536  \\nUS \\n \\n \\nTelephone \\n : +16092122500 \\n \\nTelefax \\n : +16092122501 \\n \\nE-mail address : Sds.compiler@croda.com \\n1.4 Emergency telephone number \\nEmergency telephone number  : USA: 24 Hour Emergency Response Information CHEMTREC \\ntoll free: 1-800-424-9300; direct/international: 1-703-527-3887. \\nCANADA: GFL 1-877-898-7222. EUROPE: 00 32 3575 5555. \\nASIA PACIFIC - excl. China:+65 6542-9595. CHINA: +86 816-\\n635 2206. AUSTRALIA: +61 2 7808 3390. SOUTH AFRICA: \\n+32 3 575 55 55. BRASIL: Ambipar 0800 117 2020. LATAM: \\nSuatrans (+55) 11 98149-0850 / (+55) 19 3833-5300. INDIA: \\n+91 22 30948601/2. JAPAN: +65 6542 9595 (24 時間日本語対\\n応無料通話 , シンガポール ). TÜRKIYE: Sağlik Bakanliği Ulusal \\nZehir Merkezi - 114 \\n \\nSECTION 2: Hazards identification \\n2.1 Classification of the substance or mixture \\nClassification (REGULATION (EC) No 1272/2008) \\nNot a hazardous substance or mixture. \\n2.2 Label elements \\nLabelling  (REGULATION (EC) No 1272/2008) \\nNot a hazardous substance or mixture. \\n SAFETY DATA SHEET \\naccording to Regulation (EC) No. 1907/2006  \\n \\nATMER™ 1013-PA-(RB)  \\n  \\nVersion \\n1.1 Revision Date:  \\n07.10.2021 Product code:  \\nGS00446  Date of last issue: \\n20.12.2019 \\nDate of first issue: \\n20.12.2019  Print Date : \\n27.09.2022  \\n \\n2 / 10 2.3 Other hazards \\n \\nThis substance/mixture contains no components considered to be either persistent, bioaccumula-\\ntive and toxic (PBT), or very persistent and very bioaccumulative (vPvB) at levels of 0.1% or \\nhigher. \\nSECTION 3: Composition/information on ingredients \\n3.1 Substances \\nChemical nature \\n : Polymer additive \\n \\nComponents \\nRemarks  :  No hazardous ingredients \\n \\n \\nSECTION 4: First aid measures \\n4.1 Description of first aid measures \\nIf inhaled \\n :  If symptoms persist, call a physician. \\n \\nIn case of skin contact \\n :  Wash off with soap and plenty of water. \\nIf symptoms persist, call a physician. \\n \\nIn case of eye contact \\n :  Immediately flush eye(s) with plenty of water. \\nIf eye irritation persists, consult a specialist. \\n \\nIf swallowed \\n :  If symptoms persist, call a physician. \\n \\n4.2 Most important symptoms and effects, both acute and delayed \\nSymptoms : None known. \\n \\n4.3 Indication of any immediate medical attention and special treatment needed \\nTreatment \\n : None known. \\nSECTION 5: Firefighting measures \\n5.1 Extinguishing media \\nSuitable extinguishing media \\n :  Use extinguishing measures that are appropriate to local cir-\\ncumstances and the surrounding environment. \\nUse water spray, alcohol-resistant foam, dry chemical or car-\\nbon dioxide. \\n \\nUnsuitable extinguishing \\nmedia \\n :  High volume water jet \\n ', {'entities': [(381, 400, 'PRODUCT NAME'), [522, 534, 'USE OF SUBSTANCE/MIXTURE'], [604, 614, 'SUPPLIER'], [1508, 1545, 'HAZARD']]})]\n"
          ]
        }
      ]
    },
    {
      "cell_type": "code",
      "source": [
        "formatted_data"
      ],
      "metadata": {
        "colab": {
          "base_uri": "https://localhost:8080/"
        },
        "id": "vdOkCVtEjFiN",
        "outputId": "276f93a6-dc51-4a6f-ccf1-1bfc710fe5f3"
      },
      "execution_count": null,
      "outputs": [
        {
          "output_type": "execute_result",
          "data": {
            "text/plain": [
              "[('SAFETY DATA SHEET \\nAccording to REACH Regulation (EC) No 1907/2006, as amended by \\nUK REACH Regulations SI 2019/758 \\n \\nANFOMUL™ 2000-LQ-(RB)  \\n  \\n \\nVersion \\n1.0 Revision Date: \\n12.09.2022 Product code: \\nPS01251  Date of last \\nissue: - \\nDate of first \\nissue: \\n12.09.2022  Print Date : \\n26.09.2022  \\n \\n1 / 13 SECTION 1: Identification of the substance/mixture and of the company/undertaking \\n1.1 Product identifier  \\nProduct name : ANFOMUL™ 2000-LQ-(RB) \\n \\n1.2 Relevant identified uses of the substance or mixture and uses advised against \\nUse of the \\nSubstance/Mixture \\n : Raw material \\n \\n1.3 Details of the supplier of the safety data sheet \\nCompany \\n : Croda Inc. \\n777 Scudders Mill Road, Bldg. 2 \\nSuite 200 \\nPlainsboro, NJ 08536  \\nUS \\n \\n \\nTelephone \\n : +16092122500 \\n \\nTelefax \\n : +16092122501 \\n \\nE-mail address : Sds.compiler@croda.com \\n \\n1.4 Emergency telephone number \\nEmergency telephone number  : USA: 24 Hour Emergency Response Information CHEMTREC \\ntoll free: 1-800-424-9300; direct/international: 1-703-527-3887. \\nCANADA: GFL 1-877-898-7222. EUROPE: 00 32 3575 5555. \\nASIA PACIFIC - excl. China:+65 6542-9595. CHINA: +86 816-\\n635 2206. AUSTRALIA: +61 2 7808 3390. SOUTH AFRICA: \\n+32 3 575 55 55. BRASIL: Ambipar 0800 117 2020. LATAM: \\nSuatrans (+55) 11 98149-0850 / (+55) 19 3833-5300. INDIA: \\n+91 22 30948601/2. JAPAN: +65 6542 9595 (24 時間日本語対\\n応無料通話 , シンガポール ). TÜRKIYE: Sağlik Bakanliği Ulusal \\nZehir Merkezi - 114 \\n \\nSECTION 2: Hazards identification \\n2.1 Classification of the substance or mixture \\nClassification (REGULATION (EC) No 1272/2008) as amended by GB-CLP Regulation, UK \\nSI 2019/720, and UK SI 2020/1567) \\n \\nNot a hazardous substance or mixture. SAFETY DATA SHEET \\nAccording to REACH Regulation (EC) No 1907/2006, as amended by \\nUK REACH Regulations SI 2019/758 \\n \\nANFOMUL™ 2000-LQ-(RB)  \\n  \\n \\nVersion \\n1.0 Revision Date: \\n12.09.2022 Product code: \\nPS01251  Date of last \\nissue: - \\nDate of first \\nissue: \\n12.09.2022  Print Date : \\n26.09.2022  \\n \\n2 / 13 2.2 Label elements \\nLabelling (REGULATION (EC) No 1272/2008) as amended by GB-CLP Regulation, UK SI \\n2019/720, and UK SI 2020/1567) \\n \\nNot a hazardous substance or mixture. \\n \\nAdditional Labelling \\nEUH208  Contains Maleic anhydride.  \\nMay produce an allergic reaction. \\n \\nThe following percentage of the mixture consists of ingredient(s) with unknown acute toxicity: \\n70.2 % \\nThe following percentage of the mixture consists of ingredient(s) with unknown hazards to the \\naquatic environment: 70.2 % \\n2.3 Other hazards \\nThis substance/mixture contains no components considered to be either persistent, \\nbioaccumulative and toxic (PBT), or very persistent and very bioaccumulative (vPvB) at levels of \\n0.1% or higher. \\nSECTION 3: Composition/information on ingredients \\n3.2 Mixtures \\nComponents \\nChemical name CAS-No. \\nEC-No. \\nIndex-No. \\nRegistration number Classification \\n Concentration \\n(% w/w) \\nDistillates (petroleum),solvent-\\ndewaxed heavy paraffinic Not Assigned \\n \\n01-2119471299-27-\\nXXXX Asp. Tox. 1; H304 >= 20 - < 30  \\nMaleic anhydride 108-31-6 \\n203-571-6 \\n607-096-00-9 Acute Tox. 4; H302 \\nSkin Corr. 1B; \\nH314 \\nResp. Sens. 1; \\nH334 \\nSkin Sens. 1; H317 \\nSTOT RE 1; H372 \\nEye Dam. 1; H318 >= 0.1 - < 1  \\n \\nFor explanation of abbreviations see section 16. \\n \\nSECTION 4: First aid measures \\n4.1 Description of first aid measures ',\n",
              "  {'entities': [(430, 451, 'PRODUCT NAME'),\n",
              "    [572, 584, 'USE OF SUBSTANCE/MIXTURE'],\n",
              "    [1633, 1670, 'HAZARD'],\n",
              "    [3005, 3021, 'CHEMICAL']]}),\n",
              " (\"SAFETY DATA SHEET   \\n \\nANFOMUL™ 2500-LQ-(RB)   \\nVersion \\n1.0 Revision Date:  \\n01/11/2019 Product code:  \\nPD02500  Date of last issue: \\n- \\nDate of first issue: \\n01/11/2019  Print Date : \\n09/26/2022  \\n \\n1 / 8 SECTION 1. IDENTIFICATION \\n \\nProduct name  : ANFOMUL™ 2500-LQ-(RB) \\nChemical name  : Polyisobutene lactone, based polymer.  \\nManufacturer or supplier's details \\nCompany name of supplier   : Croda Inc.   \\nAddress  : 777 Scudders Mill Road, Bldg. 2 \\nSuite 200 \\nPlainsboro, NJ 08536  \\nUS  \\nTelephone  : (609) 212-2500  \\nTelefax  : (609) 212-2501  \\nEmergency telephone  : USA: 24 Hour Emergency Response Information CHEMTREC \\ntoll free: 1-800-424-9300; direct/international: 1-703-527-3887. \\nCANADA: GFL 1-877-898-7222. EUROPE: 00 32 3575 5555. \\nASIA PACIFIC - excl. China:+65 6542-9595. CHINA: +86 816-\\n635 2206. AUSTRALIA: +61 2 7808 3390. SOUTH AFRICA: \\n+32 3 575 55 55. BRASIL: Ambipar 0800 117 2020. LATAM: \\nSuatrans (+55) 11 98149-0850 / (+55) 19 3833-5300. INDIA: \\n+91 22 30948601/2. JAPAN: +65 6542 9595 (24 時間日本語対\\n応無料通話 , シンガポール ). TÜRKIYE: Sağlik Bakanliği Ulusal \\nZehir Merkezi - 114  \\n \\nRecommended use of the chemical and restrictions on use \\nRecommended use  : Emulsifier  \\nSECTION 2. HAZARDS IDENTIFICATION \\nGHS classification in accordance with 29 CFR 1910.1200 \\nNot a hazardous substance or mixture. \\nGHS label elements \\nNot a hazardous substance or mixture. \\nOther hazards \\nMay irritate skin. \\nMay irritate eyes. \\nIngestion may cause irritation to mucous membranes. \\nMay cause irritation of respiratory tract. \\nSECTION 3. COMPOSITION/INFORMATION ON INGREDIENTS \\nSubstance / Mixture  :  Mixture \\nHazardous ingredients \\nChemical name CAS-No. Concentration (% w/w) \\nDistillates (petroleum), hydrotreated heavy \\nparaffinic; Baseoil 64742-54-7 >= 20 -  < 30 \\n \\nThe specific chemical identity and/or exact percentage of composition for one or more ingredients \\nhas been withheld as a trade secret.  SAFETY DATA SHEET   \\n \\nANFOMUL™ 2500-LQ-(RB)   \\nVersion \\n1.0 Revision Date:  \\n01/11/2019 Product code:  \\nPD02500  Date of last issue: \\n- \\nDate of first issue: \\n01/11/2019  Print Date : \\n09/26/2022  \\n \\n2 / 8 SECTION 4. FIRST AID MEASURES \\nIf inhaled  : If breathed in, move person into fresh air. \\nIf symptoms persist, call a physician.  \\nIn case of skin contact  : In case of contact, immediately flush skin with soap and plenty \\nof water. \\nIf symptoms persist, call a physician.  \\nIn case of eye contact  : In the case of contact with eyes, rinse immediately with plenty \\nof water and seek medical advice.  \\nIf swallowed  : If large quantities of this material are swallowed, call a \\nphysician immediately.  \\nMost important symptoms \\nand effects, both acute and \\ndelayed  : None known.  \\nSECTION 5. FIRE-FIGHTING MEASURES \\nFlammable properties \\nFlash point : > 212 °F / > 100 °C \\nMethod: open cup \\n \\nSuitable extinguishing media  : Use extinguishing measures that are appropriate to local \\ncircumstances and the surrounding environment. \\nUse water spray, alcohol-resistant foam, dry chemical or \\ncarbon dioxide.  \\nUnsuitable extinguishing \\nmedia  : High volume water jet  \\nSpecific hazards during fire \\nfighting  : Do not use a solid water stream as it may scatter and spread \\nfire. \\n \\nSpecific extinguishing meth-\\nods  : Standard procedure for chemical fires.  \\nFurther information : Use water spray to cool unopened containers.  \\nSpecial protective equipment \\nfor fire-fighters  : In the event of fire, wear self-contained breathing apparatus.  \\nSECTION 6. ACCIDENTAL RELEASE MEASURES \\nPersonal precautions, protec-\\ntive equipment and emer-\\ngency procedures \\n : Ensure adequate ventilation. \\nUse personal protective equipment. \\n \\nMethods and materials for \\ncontainment and cleaning up \\n : Soak up with inert absorbent material. \\nSweep up and shovel into suitable containers for disposal. \\n \\nSECTION 7. HANDLING AND STORAGE \\nAdvice on protection against \\nfire and explosion \\n :  Normal measures for preventive fire protection. \\n \\nAdvice on safe handling  : Provide sufficient air exchange and/or exhaust in work rooms. \\nAvoid contact with skin, eyes and clothing.  \\nConditions for safe storage  : Store in original container. \",\n",
              "  {'entities': [(252, 273, 'PRODUCT NAME'),\n",
              "    [292, 329, 'CHEMICAL'],\n",
              "    [397, 407, 'SUPPLIER'],\n",
              "    [1341, 1378, 'HAZARD']]}),\n",
              " ('SAFETY DATA SHEET \\naccording to Regulation (EC) No. 1907/2006  \\n \\nATMER™ 1013-PA-(RB)  \\n  \\nVersion \\n1.1 Revision Date:  \\n07.10.2021 Product code:  \\nGS00446  Date of last issue: \\n20.12.2019 \\nDate of first issue: \\n20.12.2019  Print Date : \\n27.09.2022  \\n \\n1 / 10 SECTION 1: Identification of the substance/mixture and of the company/undertaking \\n1.1 Product identifier\\nProduct name : ATMER™ 1013-PA-(RB) \\n \\n1.2 Relevant identified uses of the substance or mixture and uses advised against \\nUse of the Sub-\\nstance/Mixture \\n : Raw material \\n \\n1.3 Details of the supplier of the safety data sheet \\nCompany \\n : Croda Inc. \\n777 Scudders Mill Road, Bldg. 2 \\nSuite 200 \\nPlainsboro, NJ 08536  \\nUS \\n \\n \\nTelephone \\n : +16092122500 \\n \\nTelefax \\n : +16092122501 \\n \\nE-mail address : Sds.compiler@croda.com \\n1.4 Emergency telephone number \\nEmergency telephone number  : USA: 24 Hour Emergency Response Information CHEMTREC \\ntoll free: 1-800-424-9300; direct/international: 1-703-527-3887. \\nCANADA: GFL 1-877-898-7222. EUROPE: 00 32 3575 5555. \\nASIA PACIFIC - excl. China:+65 6542-9595. CHINA: +86 816-\\n635 2206. AUSTRALIA: +61 2 7808 3390. SOUTH AFRICA: \\n+32 3 575 55 55. BRASIL: Ambipar 0800 117 2020. LATAM: \\nSuatrans (+55) 11 98149-0850 / (+55) 19 3833-5300. INDIA: \\n+91 22 30948601/2. JAPAN: +65 6542 9595 (24 時間日本語対\\n応無料通話 , シンガポール ). TÜRKIYE: Sağlik Bakanliği Ulusal \\nZehir Merkezi - 114 \\n \\nSECTION 2: Hazards identification \\n2.1 Classification of the substance or mixture \\nClassification (REGULATION (EC) No 1272/2008) \\nNot a hazardous substance or mixture. \\n2.2 Label elements \\nLabelling  (REGULATION (EC) No 1272/2008) \\nNot a hazardous substance or mixture. \\n SAFETY DATA SHEET \\naccording to Regulation (EC) No. 1907/2006  \\n \\nATMER™ 1013-PA-(RB)  \\n  \\nVersion \\n1.1 Revision Date:  \\n07.10.2021 Product code:  \\nGS00446  Date of last issue: \\n20.12.2019 \\nDate of first issue: \\n20.12.2019  Print Date : \\n27.09.2022  \\n \\n2 / 10 2.3 Other hazards \\n \\nThis substance/mixture contains no components considered to be either persistent, bioaccumula-\\ntive and toxic (PBT), or very persistent and very bioaccumulative (vPvB) at levels of 0.1% or \\nhigher. \\nSECTION 3: Composition/information on ingredients \\n3.1 Substances \\nChemical nature \\n : Polymer additive \\n \\nComponents \\nRemarks  :  No hazardous ingredients \\n \\n \\nSECTION 4: First aid measures \\n4.1 Description of first aid measures \\nIf inhaled \\n :  If symptoms persist, call a physician. \\n \\nIn case of skin contact \\n :  Wash off with soap and plenty of water. \\nIf symptoms persist, call a physician. \\n \\nIn case of eye contact \\n :  Immediately flush eye(s) with plenty of water. \\nIf eye irritation persists, consult a specialist. \\n \\nIf swallowed \\n :  If symptoms persist, call a physician. \\n \\n4.2 Most important symptoms and effects, both acute and delayed \\nSymptoms : None known. \\n \\n4.3 Indication of any immediate medical attention and special treatment needed \\nTreatment \\n : None known. \\nSECTION 5: Firefighting measures \\n5.1 Extinguishing media \\nSuitable extinguishing media \\n :  Use extinguishing measures that are appropriate to local cir-\\ncumstances and the surrounding environment. \\nUse water spray, alcohol-resistant foam, dry chemical or car-\\nbon dioxide. \\n \\nUnsuitable extinguishing \\nmedia \\n :  High volume water jet \\n ',\n",
              "  {'entities': [(381, 400, 'PRODUCT NAME'),\n",
              "    [522, 534, 'USE OF SUBSTANCE/MIXTURE'],\n",
              "    [604, 614, 'SUPPLIER'],\n",
              "    [1508, 1545, 'HAZARD']]})]"
            ]
          },
          "metadata": {},
          "execution_count": 14
        }
      ]
    },
    {
      "cell_type": "markdown",
      "source": [
        "**3. Train model**"
      ],
      "metadata": {
        "id": "Rk5UgQ18VvOZ"
      }
    },
    {
      "cell_type": "code",
      "execution_count": null,
      "metadata": {
        "id": "8TBUzdvPUuf1"
      },
      "outputs": [],
      "source": [
        "import pandas as pd\n",
        "import os\n",
        "from tqdm import tqdm\n",
        "import spacy\n",
        "from spacy.tokens import DocBin"
      ]
    },
    {
      "cell_type": "code",
      "source": [
        "nlp = spacy.load('en_core_web_sm')\n",
        "db=DocBin()\n",
        "\n",
        "for text, annot in tqdm(train_data):\n",
        "  doc = nlp.make_doc(text)\n",
        "  ents=[]\n",
        "  for start, end, label in annot['entities']:\n",
        "    span = doc.char_span(start, end, label=label, alignment_mode= 'contract')\n",
        "    if span is None:\n",
        "      print('Skipping entity')\n",
        "    else:\n",
        "      ents.append(span)\n",
        "  doc.ents = ents\n",
        "  db.add(doc)\n",
        "\n",
        "db.to_disk('./train.spacy')"
      ],
      "metadata": {
        "colab": {
          "base_uri": "https://localhost:8080/"
        },
        "id": "PdshgWTmaXDe",
        "outputId": "565221a4-4234-4eec-de02-5d23b62d7294"
      },
      "execution_count": null,
      "outputs": [
        {
          "output_type": "stream",
          "name": "stderr",
          "text": [
            "100%|██████████| 3/3 [00:00<00:00, 58.77it/s]\n"
          ]
        }
      ]
    },
    {
      "cell_type": "markdown",
      "source": [
        "**The base_config.cfg file should be downloaded in**\n",
        "https://spacy.io/usage/training"
      ],
      "metadata": {
        "id": "lMlVpn4Ul9aZ"
      }
    },
    {
      "cell_type": "code",
      "source": [
        "!python -m spacy init fill-config base_config.cfg config.cfg"
      ],
      "metadata": {
        "id": "4jgll7CKmzW1",
        "colab": {
          "base_uri": "https://localhost:8080/"
        },
        "outputId": "75019b7f-2e3e-4384-ed68-8b8254dfeb09"
      },
      "execution_count": null,
      "outputs": [
        {
          "output_type": "stream",
          "name": "stdout",
          "text": [
            "\u001b[38;5;2m✔ Auto-filled config with all values\u001b[0m\n",
            "\u001b[38;5;2m✔ Saved config\u001b[0m\n",
            "config.cfg\n",
            "You can now add your data and train your pipeline:\n",
            "python -m spacy train config.cfg --paths.train ./train.spacy --paths.dev ./dev.spacy\n"
          ]
        }
      ]
    },
    {
      "cell_type": "code",
      "source": [
        "!python -m spacy train config.cfg --output /content --paths.train /content/train.spacy --paths.dev /content/train.spacy"
      ],
      "metadata": {
        "colab": {
          "base_uri": "https://localhost:8080/"
        },
        "id": "jSfY4zoJlDP4",
        "outputId": "7e79a845-970f-4e59-b582-13e33d277769"
      },
      "execution_count": null,
      "outputs": [
        {
          "output_type": "stream",
          "name": "stdout",
          "text": [
            "\u001b[38;5;4mℹ Saving to output directory: /content\u001b[0m\n",
            "\u001b[38;5;4mℹ Using CPU\u001b[0m\n",
            "\u001b[1m\n",
            "=========================== Initializing pipeline ===========================\u001b[0m\n",
            "\u001b[38;5;2m✔ Initialized pipeline\u001b[0m\n",
            "\u001b[1m\n",
            "============================= Training pipeline =============================\u001b[0m\n",
            "\u001b[38;5;4mℹ Pipeline: ['tok2vec', 'ner']\u001b[0m\n",
            "\u001b[38;5;4mℹ Initial learn rate: 1.0\u001b[0m\n",
            "E    #       LOSS TOK2VEC  LOSS NER  ENTS_F  ENTS_P  ENTS_R  SCORE \n",
            "---  ------  ------------  --------  ------  ------  ------  ------\n",
            "  0       0          0.00    364.59    0.00    0.00    0.00    0.00\n",
            " 66     200  192038706081613344.00  158169.58    0.00    0.00    0.00    0.00\n",
            "133     400  55409086541900800.00  137342.00    0.00    0.00    0.00    0.00\n",
            "200     600  111911555680124928.00  118058.00    0.00    0.00    0.00    0.00\n",
            "266     800  128066974912004096.00  148749.64    0.00    0.00    0.00    0.00\n",
            "333    1000  106005760608727040.00  137099.50    0.00    0.00    0.00    0.00\n",
            "\n",
            "\u001b[31mAborted.\u001b[0m\n"
          ]
        }
      ]
    },
    {
      "cell_type": "code",
      "source": [
        "nlp = spacy.load('/content/model-best')"
      ],
      "metadata": {
        "id": "YKTNBt31o8AJ"
      },
      "execution_count": null,
      "outputs": []
    },
    {
      "cell_type": "code",
      "source": [
        "!pip install pypdf"
      ],
      "metadata": {
        "colab": {
          "base_uri": "https://localhost:8080/"
        },
        "id": "bCycFjL8p_mr",
        "outputId": "d44c399d-6743-4ada-9c6d-0c2425ee037a"
      },
      "execution_count": null,
      "outputs": [
        {
          "output_type": "stream",
          "name": "stdout",
          "text": [
            "Requirement already satisfied: pypdf in /usr/local/lib/python3.10/dist-packages (4.2.0)\n",
            "Requirement already satisfied: typing_extensions>=4.0 in /usr/local/lib/python3.10/dist-packages (from pypdf) (4.11.0)\n"
          ]
        }
      ]
    },
    {
      "cell_type": "code",
      "source": [
        "from pypdf import PdfReader\n",
        "reader = PdfReader('/content/CRODA-Crodamide 212-SDS-EN.pdf')\n",
        "text = \"\"\n",
        "for page in reader.pages:\n",
        "    text += page.extract_text()\n"
      ],
      "metadata": {
        "id": "FhdUDedFpcFh"
      },
      "execution_count": null,
      "outputs": []
    },
    {
      "cell_type": "code",
      "source": [
        "doc = nlp(text)\n",
        "doc.ents"
      ],
      "metadata": {
        "id": "zQl2G254uxeU",
        "colab": {
          "base_uri": "https://localhost:8080/"
        },
        "outputId": "e27d9309-f873-43e5-dc47-1aef4fd36f32"
      },
      "execution_count": null,
      "outputs": [
        {
          "output_type": "execute_result",
          "data": {
            "text/plain": [
              "(Not a hazardous substance or mixture.,\n",
              " Not a hazardous substance or mixture.,\n",
              " Not applicable for product as supplied.)"
            ]
          },
          "metadata": {},
          "execution_count": 75
        }
      ]
    },
    {
      "cell_type": "code",
      "source": [
        "\n",
        "for ent in doc.ents:\n",
        "  # Print the recognized text and its corresponding label\n",
        "  print(ent.text, \"  ->>>>  \", ent.label_)"
      ],
      "metadata": {
        "id": "c9rl8dChq_rE",
        "colab": {
          "base_uri": "https://localhost:8080/"
        },
        "outputId": "d27fb186-52d0-4caf-97d6-9a1231e881e8"
      },
      "execution_count": null,
      "outputs": [
        {
          "output_type": "stream",
          "name": "stdout",
          "text": [
            "Not a hazardous substance or mixture.   ->>>>   HAZARD\n",
            "Not a hazardous substance or mixture.   ->>>>   HAZARD\n",
            "Not applicable for product as supplied.   ->>>>   HAZARD\n"
          ]
        }
      ]
    },
    {
      "cell_type": "code",
      "source": [
        "doc.ents"
      ],
      "metadata": {
        "id": "3RoMKORmdExY"
      },
      "execution_count": null,
      "outputs": []
    },
    {
      "cell_type": "code",
      "source": [
        "list_of_ents_sets=[]\n",
        "list_of_ents_sets.append(doc.ents)"
      ],
      "metadata": {
        "id": "xTRCqFHbD2Hy"
      },
      "execution_count": null,
      "outputs": []
    },
    {
      "cell_type": "code",
      "source": [
        "import pandas as pd\n",
        "\n",
        "# Initialize lists to store all entities and labels\n",
        "all_entity_texts = []\n",
        "all_entity_labels = []\n",
        "\n",
        "# Iterate through each set of entities\n",
        "for ents in list_of_ents_sets:\n",
        "    # Initialize lists to store entities and labels for the current set\n",
        "    entity_texts = []\n",
        "    entity_labels = []\n",
        "\n",
        "    # Iterate through the entities in the current set\n",
        "    for ent in ents:\n",
        "        entity_texts.append(ent.text)\n",
        "        entity_labels.append(ent.label_)\n",
        "\n",
        "    # Append the entities and labels for the current set to the lists storing all entities\n",
        "    all_entity_texts.append(entity_texts)\n",
        "    all_entity_labels.append(entity_labels)\n",
        "\n",
        "# Create a DataFrame\n",
        "df = pd.DataFrame({'Entity': all_entity_texts, 'Label': all_entity_labels})\n",
        "\n",
        "# Print the DataFrame\n"
      ],
      "metadata": {
        "id": "J-V0EFX7yyjp"
      },
      "execution_count": null,
      "outputs": []
    },
    {
      "cell_type": "code",
      "source": [
        "entity_texts = []\n",
        "entity_labels = []\n",
        "for ent in doc.ents:\n",
        "  entity_texts.append(ent.text)\n",
        "  entity_labels.append(ent.label_)"
      ],
      "metadata": {
        "id": "hphPERspDLCh"
      },
      "execution_count": null,
      "outputs": []
    },
    {
      "cell_type": "code",
      "source": [
        "df = pd.DataFrame({'Entity': all_entity_texts, 'Label': all_entity_labels})"
      ],
      "metadata": {
        "id": "FavB6FHvDW2g"
      },
      "execution_count": null,
      "outputs": []
    },
    {
      "cell_type": "code",
      "source": [
        "df"
      ],
      "metadata": {
        "colab": {
          "base_uri": "https://localhost:8080/",
          "height": 80
        },
        "id": "8MRUGT3gDgIR",
        "outputId": "f5b9a7b5-e21d-4945-b3ec-6ba0eec8cfe6"
      },
      "execution_count": null,
      "outputs": [
        {
          "output_type": "execute_result",
          "data": {
            "text/plain": [
              "                                              Entity  \\\n",
              "0  [ANFOMUL™ 2500-LQ-(RB), Polyisobutene lactone,...   \n",
              "\n",
              "                                               Label  \n",
              "0  [PRODUCT NAME, CHEMICAL, SUPPLIER, HAZARD, HAZ...  "
            ],
            "text/html": [
              "\n",
              "  <div id=\"df-d98121e3-1d3e-490a-8961-f0c320ffe274\" class=\"colab-df-container\">\n",
              "    <div>\n",
              "<style scoped>\n",
              "    .dataframe tbody tr th:only-of-type {\n",
              "        vertical-align: middle;\n",
              "    }\n",
              "\n",
              "    .dataframe tbody tr th {\n",
              "        vertical-align: top;\n",
              "    }\n",
              "\n",
              "    .dataframe thead th {\n",
              "        text-align: right;\n",
              "    }\n",
              "</style>\n",
              "<table border=\"1\" class=\"dataframe\">\n",
              "  <thead>\n",
              "    <tr style=\"text-align: right;\">\n",
              "      <th></th>\n",
              "      <th>Entity</th>\n",
              "      <th>Label</th>\n",
              "    </tr>\n",
              "  </thead>\n",
              "  <tbody>\n",
              "    <tr>\n",
              "      <th>0</th>\n",
              "      <td>[ANFOMUL™ 2500-LQ-(RB), Polyisobutene lactone,...</td>\n",
              "      <td>[PRODUCT NAME, CHEMICAL, SUPPLIER, HAZARD, HAZ...</td>\n",
              "    </tr>\n",
              "  </tbody>\n",
              "</table>\n",
              "</div>\n",
              "    <div class=\"colab-df-buttons\">\n",
              "\n",
              "  <div class=\"colab-df-container\">\n",
              "    <button class=\"colab-df-convert\" onclick=\"convertToInteractive('df-d98121e3-1d3e-490a-8961-f0c320ffe274')\"\n",
              "            title=\"Convert this dataframe to an interactive table.\"\n",
              "            style=\"display:none;\">\n",
              "\n",
              "  <svg xmlns=\"http://www.w3.org/2000/svg\" height=\"24px\" viewBox=\"0 -960 960 960\">\n",
              "    <path d=\"M120-120v-720h720v720H120Zm60-500h600v-160H180v160Zm220 220h160v-160H400v160Zm0 220h160v-160H400v160ZM180-400h160v-160H180v160Zm440 0h160v-160H620v160ZM180-180h160v-160H180v160Zm440 0h160v-160H620v160Z\"/>\n",
              "  </svg>\n",
              "    </button>\n",
              "\n",
              "  <style>\n",
              "    .colab-df-container {\n",
              "      display:flex;\n",
              "      gap: 12px;\n",
              "    }\n",
              "\n",
              "    .colab-df-convert {\n",
              "      background-color: #E8F0FE;\n",
              "      border: none;\n",
              "      border-radius: 50%;\n",
              "      cursor: pointer;\n",
              "      display: none;\n",
              "      fill: #1967D2;\n",
              "      height: 32px;\n",
              "      padding: 0 0 0 0;\n",
              "      width: 32px;\n",
              "    }\n",
              "\n",
              "    .colab-df-convert:hover {\n",
              "      background-color: #E2EBFA;\n",
              "      box-shadow: 0px 1px 2px rgba(60, 64, 67, 0.3), 0px 1px 3px 1px rgba(60, 64, 67, 0.15);\n",
              "      fill: #174EA6;\n",
              "    }\n",
              "\n",
              "    .colab-df-buttons div {\n",
              "      margin-bottom: 4px;\n",
              "    }\n",
              "\n",
              "    [theme=dark] .colab-df-convert {\n",
              "      background-color: #3B4455;\n",
              "      fill: #D2E3FC;\n",
              "    }\n",
              "\n",
              "    [theme=dark] .colab-df-convert:hover {\n",
              "      background-color: #434B5C;\n",
              "      box-shadow: 0px 1px 3px 1px rgba(0, 0, 0, 0.15);\n",
              "      filter: drop-shadow(0px 1px 2px rgba(0, 0, 0, 0.3));\n",
              "      fill: #FFFFFF;\n",
              "    }\n",
              "  </style>\n",
              "\n",
              "    <script>\n",
              "      const buttonEl =\n",
              "        document.querySelector('#df-d98121e3-1d3e-490a-8961-f0c320ffe274 button.colab-df-convert');\n",
              "      buttonEl.style.display =\n",
              "        google.colab.kernel.accessAllowed ? 'block' : 'none';\n",
              "\n",
              "      async function convertToInteractive(key) {\n",
              "        const element = document.querySelector('#df-d98121e3-1d3e-490a-8961-f0c320ffe274');\n",
              "        const dataTable =\n",
              "          await google.colab.kernel.invokeFunction('convertToInteractive',\n",
              "                                                    [key], {});\n",
              "        if (!dataTable) return;\n",
              "\n",
              "        const docLinkHtml = 'Like what you see? Visit the ' +\n",
              "          '<a target=\"_blank\" href=https://colab.research.google.com/notebooks/data_table.ipynb>data table notebook</a>'\n",
              "          + ' to learn more about interactive tables.';\n",
              "        element.innerHTML = '';\n",
              "        dataTable['output_type'] = 'display_data';\n",
              "        await google.colab.output.renderOutput(dataTable, element);\n",
              "        const docLink = document.createElement('div');\n",
              "        docLink.innerHTML = docLinkHtml;\n",
              "        element.appendChild(docLink);\n",
              "      }\n",
              "    </script>\n",
              "  </div>\n",
              "\n",
              "    </div>\n",
              "  </div>\n"
            ],
            "application/vnd.google.colaboratory.intrinsic+json": {
              "type": "dataframe",
              "variable_name": "df",
              "summary": "{\n  \"name\": \"df\",\n  \"rows\": 1,\n  \"fields\": [\n    {\n      \"column\": \"Entity\",\n      \"properties\": {\n        \"dtype\": \"object\",\n        \"semantic_type\": \"\",\n        \"description\": \"\"\n      }\n    },\n    {\n      \"column\": \"Label\",\n      \"properties\": {\n        \"dtype\": \"object\",\n        \"semantic_type\": \"\",\n        \"description\": \"\"\n      }\n    }\n  ]\n}"
            }
          },
          "metadata": {},
          "execution_count": 39
        }
      ]
    }
  ]
}